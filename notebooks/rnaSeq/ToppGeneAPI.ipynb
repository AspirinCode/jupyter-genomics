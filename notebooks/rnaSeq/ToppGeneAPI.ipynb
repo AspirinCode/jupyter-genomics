{
 "cells": [
  {
   "cell_type": "markdown",
   "metadata": {},
   "source": [
    "# ToppGene API"
   ]
  },
  {
   "cell_type": "markdown",
   "metadata": {},
   "source": [
    "### Authors: N. Mouchamel, T. Nguyen & K. Fisch\n",
    "### Email: Kfisch@ucsd.edu\n",
    "### Date: June 2016"
   ]
  },
  {
   "cell_type": "markdown",
   "metadata": {},
   "source": [
    "Goal: Create Jupyter notebook cell that runs an enrichment analysis in ToppGene through the API\n",
    "\n",
    "Toppgene website https://toppgene.cchmc.org/enrichment.jsp\n",
    "*Note: request ToppGene API through ToppGene developers\n",
    "\n",
    "Steps: \n",
    "1. Read in differentially expressed gene list\n",
    "2. Convert differentially expressed gene list to xml file as input to ToppGene API\n",
    "3. Run enrichment analysis of DE genes through ToppGene API\n",
    "4. Parse ToppGene API results from xml to csv and Pandas data frame\n",
    "5. Display results in notebook"
   ]
  },
  {
   "cell_type": "code",
   "execution_count": null,
   "metadata": {
    "collapsed": false
   },
   "outputs": [],
   "source": [
    "##importing python module\n",
    "import os\n",
    "import pandas\n",
    "import qgrid\n",
    "qgrid.nbinstall(overwrite=True)\n",
    "qgrid.set_defaults(remote_js=True, precision=4)\n",
    "\n",
    "import mygene\n",
    "\n",
    "##change directory\n",
    "os.chdir(\"/Users/nicole/Documents/CCBB Internship\")\n"
   ]
  },
  {
   "cell_type": "markdown",
   "metadata": {},
   "source": [
    "## Read in differential expression results as a Pandas data frame to get differentially expressed gene list\n"
   ]
  },
  {
   "cell_type": "code",
   "execution_count": null,
   "metadata": {
    "collapsed": false
   },
   "outputs": [],
   "source": [
    "##read in DESeq2 results\n",
    "genes=pandas.read_csv(\"DE_genes.csv\")\n",
    "\n",
    "##View interactive table\n",
    "##qgrid.show_grid(genes.sample(1000), grid_options={'forceFitColumns': False, 'defaultColumnWidth': 100})\n",
    "\n",
    "#View top of file\n",
    "genes.head(10)"
   ]
  },
  {
   "cell_type": "code",
   "execution_count": null,
   "metadata": {
    "collapsed": false
   },
   "outputs": [],
   "source": [
    "#Extract genes that are differentially expressed with a pvalue less than a certain cutoff (pvalue < 0.05 or padj < 0.05)\n",
    "genes_DE_only = genes.loc[(genes.pvalue < 0.05)]\n",
    "\n",
    "#View top of file\n",
    "genes_DE_only.head(10)"
   ]
  },
  {
   "cell_type": "code",
   "execution_count": null,
   "metadata": {
    "collapsed": false
   },
   "outputs": [],
   "source": [
    "#Check how many rows in original genes file\n",
    "len(genes)"
   ]
  },
  {
   "cell_type": "code",
   "execution_count": null,
   "metadata": {
    "collapsed": false
   },
   "outputs": [],
   "source": [
    "#Check how many rows in DE genes file\n",
    "len(genes_DE_only)"
   ]
  },
  {
   "cell_type": "markdown",
   "metadata": {},
   "source": [
    "## Translate Ensembl IDs to Gene Symbols and Entrez IDs using mygene.info API"
   ]
  },
  {
   "cell_type": "code",
   "execution_count": null,
   "metadata": {
    "collapsed": false
   },
   "outputs": [],
   "source": [
    "#Extract list of DE genes  (Check to make sure this code works, this was adapted from a different notebook)\n",
    "de_list = genes_DE_only[genes_DE_only.columns[0]]\n",
    "\n",
    "#Remove .* from end of Ensembl ID\n",
    "de_list2 = de_list.replace(\"\\.\\d\",\"\",regex=True)\n",
    "\n",
    "#Add new column with reformatted Ensembl IDs\n",
    "genes_DE_only[\"Full_Ensembl\"] = de_list2\n",
    "\n",
    "#View top of file \n",
    "genes_DE_only.head(10)"
   ]
  },
  {
   "cell_type": "code",
   "execution_count": null,
   "metadata": {
    "collapsed": false,
    "scrolled": false
   },
   "outputs": [],
   "source": [
    "#Set up mygene.info API and query\n",
    "mg = mygene.MyGeneInfo()\n",
    "gene_ids = mg.getgenes(de_list2, 'name, symbol, entrezgene', as_dataframe=True)\n",
    "gene_ids.index.name = \"Ensembl\"\n",
    "gene_ids.reset_index(inplace=True)\n",
    "\n",
    "#View top of file\n",
    "gene_ids.head(10)"
   ]
  },
  {
   "cell_type": "code",
   "execution_count": null,
   "metadata": {
    "collapsed": false,
    "scrolled": true
   },
   "outputs": [],
   "source": [
    "#Merge mygene.info query results with original DE genes list\n",
    "DE_with_ids = genes_DE_only.merge(gene_ids, left_on=\"Full_Ensembl\", right_on=\"Ensembl\", how=\"outer\")\n",
    "\n",
    "#Check top of file\n",
    "DE_with_ids.head(10)"
   ]
  },
  {
   "cell_type": "code",
   "execution_count": null,
   "metadata": {
    "collapsed": true
   },
   "outputs": [],
   "source": [
    "#Write results to file\n",
    "DE_with_ids.to_csv(\"./DE_genes_converted.csv\")"
   ]
  },
  {
   "cell_type": "code",
   "execution_count": null,
   "metadata": {
    "collapsed": false,
    "scrolled": false
   },
   "outputs": [],
   "source": [
    "#Dataframe to only contain gene symbol\n",
    "DE_with_ids=pandas.read_csv(\"./DE_genes_converted.csv\")\n",
    "\n",
    "cols = DE_with_ids.columns.tolist()\n",
    "cols.insert(0, cols.pop(cols.index('symbol')))\n",
    "\n",
    "for_xmlfile = DE_with_ids.reindex(columns= cols)\n",
    "\n",
    "#Condense dataframe to contain only symbol\n",
    "for_xmlfile.drop(for_xmlfile.columns[[1, 2, 3, 4, 5, 6, 7, 8, 9, 10, 11,12,13,14]], axis=1, inplace=True) \n",
    "\n",
    "#Exclude NaN values\n",
    "for_xmlfile.dropna(axis=0, how='any', thresh=None, subset=None, inplace=True)\n",
    "\n",
    "for_xmlfile.head(10)"
   ]
  },
  {
   "cell_type": "code",
   "execution_count": null,
   "metadata": {
    "collapsed": true
   },
   "outputs": [],
   "source": [
    "#Write results to file\n",
    "for_xmlfile.to_csv(\"./for_xmlfile.csv\", index=False)"
   ]
  },
  {
   "cell_type": "code",
   "execution_count": null,
   "metadata": {
    "collapsed": false,
    "scrolled": true
   },
   "outputs": [],
   "source": [
    "#.XML file generator from gene list in .csv file\n",
    "import xml.etree.cElementTree as ET\n",
    "import xml.etree.cElementTree as ElementTree\n",
    "import lxml\n",
    "\n",
    "root=ET.Element(\"requests\")\n",
    "\n",
    "doc=ET.SubElement(root, \"toppfun\", id= \"nicole's gene list\")\n",
    "\n",
    "config=ET.SubElement(doc, \"enrichment-config\")\n",
    "\n",
    "gene_list=ET.SubElement(doc, \"trainingset\")\n",
    "gene_list.set('accession-source','HGNC')\n",
    "\n",
    "#for gene symbol in gene_list\n",
    "toppgene = pandas.read_csv(\"./for_xmlfile.csv\")\n",
    "\n",
    "for i in toppgene.ix[:,0]:\n",
    "    gene_symbol = i\n",
    "    gene = ET.SubElement(gene_list, \"gene\")\n",
    "    gene.text= gene_symbol\n",
    "\n",
    "\n",
    "tree = ET.ElementTree(root)\n",
    "\n",
    "def indent(elem, level=0):\n",
    "    i = \"\\n\" + level*\"  \"\n",
    "    if len(elem):\n",
    "        if not elem.text or not elem.text.strip():\n",
    "            elem.text = i + \"  \"\n",
    "        if not elem.tail or not elem.tail.strip():\n",
    "            elem.tail = i\n",
    "        for elem in elem:\n",
    "            indent(elem, level+1)\n",
    "        if not elem.tail or not elem.tail.strip():\n",
    "            elem.tail = i\n",
    "    else:\n",
    "        if level and (not elem.tail or not elem.tail.strip()):\n",
    "            elem.tail = i\n",
    "indent(root)\n",
    "\n",
    "import xml.dom.minidom\n",
    "from lxml import etree\n",
    "\n",
    "\n",
    "with open('/Users/nicole/Documents/test.xml', 'w') as f:\n",
    "    f.write('<?xml version=\"1.0\" encoding=\"UTF-8\" ?><!DOCTYPE requests SYSTEM \"https://toppgene.cchmc.org/toppgenereq.dtd\">')\n",
    "    ElementTree.ElementTree(root).write(f, 'utf-8')\n",
    "\n",
    "\n",
    "xml = xml.dom.minidom.parse(\"/Users/nicole/Documents/test.xml\")\n",
    "pretty_xml_as_string = xml.toprettyxml()\n",
    "\n",
    "print(pretty_xml_as_string)"
   ]
  },
  {
   "cell_type": "markdown",
   "metadata": {
    "collapsed": true
   },
   "source": [
    "## Reformat list of genes to xml input format as in the test file z.xml"
   ]
  },
  {
   "cell_type": "markdown",
   "metadata": {},
   "source": [
    "#Reformat list of gene IDs (DE_with_ids, symbol) into xml format to look like example below. Documentation (along with google searching)\n",
    "http://stackoverflow.com/questions/3605680/creating-a-simple-xml-file-using-python"
   ]
  },
  {
   "cell_type": "code",
   "execution_count": null,
   "metadata": {
    "collapsed": false,
    "run_control": {
     "marked": true
    },
    "scrolled": true
   },
   "outputs": [],
   "source": [
    "import xml.etree.cElementTree as ET\n",
    "import lxml\n",
    "\n",
    "root=ET.Element(\"requests\")\n",
    "doc=ET.SubElement(root, \"toppfun\", id=\"a\")\n",
    "\n",
    "config=ET.SubElement(doc, \"enrichment-config\")\n",
    "\n",
    "#training=ET.SubElement(doc, \"trainingset accession-source='HGNC'\") \n",
    "training=ET.SubElement(doc, \"trainingset\")\n",
    "training.set('accession-source','HGNC')\n",
    "\n",
    "#features=ET.SubElement(config, \"features\")\n",
    "gene1=ET.SubElement(training, \"gene\") \n",
    "gene2=ET.SubElement(training, \"gene\")\n",
    "gene3=ET.SubElement(training, \"gene\")\n",
    "gene1.text=\"APOB\"\n",
    "gene2.text=\"APOE\"\n",
    "gene3.text=\"AIR1\"\n",
    "\n",
    "\n",
    "####\n",
    "\n",
    "doc2= ET.SubElement(root, \"toppgene\", id=\"b\")\n",
    "config2=ET.SubElement(doc2, \"enrichment-config\")\n",
    "prior=ET.SubElement(doc2,\"prioritization-config\")\n",
    "\n",
    "training2=ET.SubElement(doc2, \"trainingset\")\n",
    "training2.set('accession-source','HGNC')\n",
    "\n",
    "gene4=ET.SubElement(training2, \"gene\")\n",
    "gene4.text=\"SRF\"\n",
    "\n",
    "#testset=ET.SubElement(doc2, \"testset accession-source='HGNC'\")\n",
    "testset=ET.SubElement(doc2, \"testset\")\n",
    "testset.set('accession-source','HGNC')\n",
    "\n",
    "gene5=ET.SubElement(testset, \"gene\")\n",
    "gene5.text=\"APOB\"\n",
    "\n",
    "####\n",
    "\n",
    "doc3= ET.SubElement(root, \"toppnet\", id=\"Pattern\")\n",
    "config3=ET.SubElement(doc3, \"net-config\") ##net-config\n",
    "markov=ET.SubElement (config3, \"k-step-markov step-size='6'\") #k-step-markov step-size='6'\n",
    "visual=ET.SubElement (config3, \"visualizer neighborhood-distance='1'\") ##visualizer neighborhood-distance=\"1\"\n",
    "\n",
    "training3=ET.SubElement(doc3, \"trainingset\")\n",
    "training3.set('accession-source','HGNC')\n",
    "\n",
    "gene6=ET.SubElement(training3, \"gene\")\n",
    "gene6.text=\"SRF\"\n",
    "\n",
    "\n",
    "#testset2=ET.SubElement(doc3, \"testset accession-source='ENTREZ'\")\n",
    "testset2=ET.SubElement(doc3, \"testset\")\n",
    "testset2.set('accession-source','ENTREZ')\n",
    "\n",
    "gene7=ET.SubElement(testset2,\"gene\")\n",
    "gene7.text=\"338\"\n",
    "\n",
    "###\n",
    "doc4= ET.SubElement (root, \"toppgenet\", id=\"d\")\n",
    "config4=ET.SubElement(doc4, \"enrichment-config\")\n",
    "\n",
    "training4=ET.SubElement(doc4, \"trainingset\")\n",
    "training4.set('accession-source','HGNC')\n",
    "\n",
    "gene8=ET.SubElement(training4, \"gene\")\n",
    "gene8.text=\"APOB\"\n",
    "\n",
    "tree = ET.ElementTree(root)\n",
    "\n",
    "def indent(elem, level=0):\n",
    "    i = \"\\n\" + level*\"  \"\n",
    "    if len(elem):\n",
    "        if not elem.text or not elem.text.strip():\n",
    "            elem.text = i + \"  \"\n",
    "        if not elem.tail or not elem.tail.strip():\n",
    "            elem.tail = i\n",
    "        for elem in elem:\n",
    "            indent(elem, level+1)\n",
    "        if not elem.tail or not elem.tail.strip():\n",
    "            elem.tail = i\n",
    "    else:\n",
    "        if level and (not elem.tail or not elem.tail.strip()):\n",
    "            elem.tail = i\n",
    "\n",
    "import xml.dom.minidom\n",
    "from lxml import etree\n",
    "\n",
    "indent(root)\n",
    "\n",
    "with open('/Users/nicole/Documents/nicolez.xml', 'w') as f:\n",
    "    f.write('<?xml version=\"1.0\" encoding=\"UTF-8\" ?><!DOCTYPE requests SYSTEM \"https://toppgene.cchmc.org/toppgenereq.dtd\">')\n",
    "    ElementTree.ElementTree(root).write(f,'utf-8')\n",
    "\n",
    "\n",
    "xml = xml.dom.minidom.parse(\"/Users/nicole/Documents/nicolez.xml\")\n",
    "pretty_xml_as_string = xml.toprettyxml()\n",
    "\n",
    "print(pretty_xml_as_string)\n"
   ]
  },
  {
   "cell_type": "code",
   "execution_count": null,
   "metadata": {
    "collapsed": false
   },
   "outputs": [],
   "source": [
    "#!sed -e 's/X/ /g' -e 's/Q/=/g' -e 's/9/\\\"/g' -e 's/\\../\\-/g' filename.xml >newfile.xml"
   ]
  },
  {
   "cell_type": "code",
   "execution_count": null,
   "metadata": {
    "collapsed": false,
    "scrolled": true
   },
   "outputs": [],
   "source": [
    "import xml.dom.minidom\n",
    "\n",
    "xml = xml.dom.minidom.parse(\"/Users/nicole/Documents/zcopy.xml\")\n",
    "pretty_xml_as_string = xml.toprettyxml()\n",
    "\n",
    "print(pretty_xml_as_string)"
   ]
  },
  {
   "cell_type": "markdown",
   "metadata": {},
   "source": [
    "## Run ToppGene API via command line through provided instructions"
   ]
  },
  {
   "cell_type": "markdown",
   "metadata": {},
   "source": [
    "https://toppgene.cchmc.org/api/44009585-27C5-41FD-8279-A5FE1C86C8DB\n",
    "The input data is an XML payload that conforms to the DTD specified by https://toppgene.cchmc.org/toppgenereq.dtd\n",
    "An example of how you might run a command line query from a UNIX (including Linux and Mac) command line:\n",
    "curl -v -H 'Content-Type: text/xml' --data @z.xml -X POST https://toppgene.cchmc.org/api/44009585-27C5-41FD-8279-A5FE1C86C8DB"
   ]
  },
  {
   "cell_type": "markdown",
   "metadata": {
    "run_control": {
     "marked": true
    }
   },
   "source": [
    "#fix on server\n",
    "vim ~/.curlrc\n",
    "#then add this to file\n",
    "cacert=/etc/ssl/certs/ca-certificates.crt"
   ]
  },
  {
   "cell_type": "code",
   "execution_count": null,
   "metadata": {
    "collapsed": false
   },
   "outputs": [],
   "source": [
    "#Run command line tool through Python #this works on test file\n",
    "!curl -v -H 'Content-Type: text/xml' --data @/Users/nicole/Documents/test.xml -X POST https://toppgene.cchmc.org/api/44009585-27C5-41FD-8279-A5FE1C86C8DB > /Users/nicole/Documents/testoutfile.xml "
   ]
  },
  {
   "cell_type": "code",
   "execution_count": null,
   "metadata": {
    "collapsed": false,
    "scrolled": true
   },
   "outputs": [],
   "source": [
    "import xml.dom.minidom\n",
    "\n",
    "xml = xml.dom.minidom.parse(\"/Users/nicole/Documents/testoutfile.xml\") \n",
    "pretty_xml_as_string = xml.toprettyxml()\n",
    "\n",
    "print(pretty_xml_as_string)"
   ]
  },
  {
   "cell_type": "markdown",
   "metadata": {},
   "source": [
    "## Parse ToppGene results into Pandas data frame"
   ]
  },
  {
   "cell_type": "code",
   "execution_count": null,
   "metadata": {
    "collapsed": false
   },
   "outputs": [],
   "source": [
    "#xml to pandas dataframe http://pandas.pydata.org/pandas-docs/stable/api.html#input-output\n",
    "import xml.dom.minidom\n",
    "import pandas as pd\n",
    "import numpy\n",
    "import pyexcel\n",
    "\n",
    "#Parse through .xml file\n",
    "def load_parse_xml(data_file):\n",
    "        \"\"\"Check if file exists. If file exists, load and parse the data file. \"\"\"\n",
    "        if os.path.isfile(data_file):\n",
    "                print \"File exists. Parsing...\"\n",
    "                data_parse = ET.ElementTree(file=data_file)\n",
    "                print \"File parsed.\"\n",
    "                return data_parse\n",
    " \n",
    "xmlfile = load_parse_xml(\"/Users/nicole/Documents/testoutfile.xml\")\n",
    " \n",
    "#Generate array of annotation arrays for .csv file\n",
    "root_tree = xmlfile.getroot()\n",
    "\n",
    "gene_list=[]\n",
    "\n",
    "for child in root_tree:\n",
    "    \n",
    "    child.find(\"enrichment-results\")\n",
    "    \n",
    "    new_array = []\n",
    "    array_of_arrays=[]\n",
    "    \n",
    "    for type in child.iter(\"enrichment-result\"):\n",
    "        \n",
    "        for annotation in type.iter(\"annotation\"):\n",
    "            array_of_arrays.append(new_array)\n",
    "            new_array = []\n",
    "            new_array.append(type.attrib['type'])\n",
    "            new_array.append(annotation.attrib['name'])\n",
    "            new_array.append(annotation.attrib['id'])\n",
    "            new_array.append(annotation.attrib['pvalue'])\n",
    "            new_array.append(annotation.attrib['genes-in-query'])\n",
    "            new_array.append(annotation.attrib['genes-in-term'])\n",
    "            new_array.append(annotation.attrib['source'])\n",
    "           \n",
    "            for gene in annotation.iter(\"gene\"):\n",
    "                gene_list.append(gene.attrib['symbol'])\n",
    "            new_array.append(gene_list)\n",
    "            gene_list =[]\n",
    "     \n",
    "    print array_of_arrays\n",
    "   \n"
   ]
  },
  {
   "cell_type": "code",
   "execution_count": null,
   "metadata": {
    "collapsed": false,
    "scrolled": true
   },
   "outputs": [],
   "source": [
    "import pyexcel\n",
    "data = array_of_arrays\n",
    "pyexcel.save_as(array = data, dest_file_name = '/Users/nicole/Documents/plswork.csv')"
   ]
  },
  {
   "cell_type": "code",
   "execution_count": null,
   "metadata": {
    "collapsed": false,
    "scrolled": true
   },
   "outputs": [],
   "source": [
    "df=pandas.read_csv('/Users/nicole/Documents/plswork.csv', header=None)\n",
    "df.columns=['ToppGene Feature','Annotation Name','ID','pValue','Genes-in-Query','Genes-in-Term','Source','Genes']\n",
    "#df.head(15)"
   ]
  },
  {
   "cell_type": "code",
   "execution_count": null,
   "metadata": {
    "collapsed": false
   },
   "outputs": [],
   "source": [
    "#Dataframe for GeneOntologyMolecularFunction\n",
    "df.loc[df['ToppGene Feature'] == 'GeneOntologyMolecularFunction']"
   ]
  },
  {
   "cell_type": "code",
   "execution_count": null,
   "metadata": {
    "collapsed": false
   },
   "outputs": [],
   "source": [
    "#Dataframe for GeneOntologyBiologicalProcess\n",
    "df.loc[df['ToppGene Feature'] == 'GeneOntologyBiologicalProcess']"
   ]
  },
  {
   "cell_type": "code",
   "execution_count": null,
   "metadata": {
    "collapsed": false,
    "scrolled": true
   },
   "outputs": [],
   "source": [
    "#Dataframe for GeneOntologyCellularComponent\n",
    "df.loc[df['ToppGene Feature'] == 'GeneOntologyCellularComponent']"
   ]
  },
  {
   "cell_type": "code",
   "execution_count": null,
   "metadata": {
    "collapsed": false
   },
   "outputs": [],
   "source": [
    "#Dataframe for Human Phenotype\n",
    "df.loc[df['ToppGene Feature'] == 'HumanPheno']"
   ]
  },
  {
   "cell_type": "code",
   "execution_count": null,
   "metadata": {
    "collapsed": false
   },
   "outputs": [],
   "source": [
    "#Dataframe for Mouse Phenotype\n",
    "df.loc[df['ToppGene Feature'] == 'MousePheno']"
   ]
  },
  {
   "cell_type": "code",
   "execution_count": null,
   "metadata": {
    "collapsed": false
   },
   "outputs": [],
   "source": [
    "#Dataframe for Domain\n",
    "df.loc[df['ToppGene Feature'] == 'Domain']"
   ]
  },
  {
   "cell_type": "code",
   "execution_count": null,
   "metadata": {
    "collapsed": false
   },
   "outputs": [],
   "source": [
    "#Dataframe for Pathways\n",
    "df.loc[df['ToppGene Feature'] == 'Pathway']"
   ]
  },
  {
   "cell_type": "code",
   "execution_count": null,
   "metadata": {
    "collapsed": false
   },
   "outputs": [],
   "source": [
    "#Dataframe for Pubmed\n",
    "df.loc[df['ToppGene Feature'] == 'Pubmed']"
   ]
  },
  {
   "cell_type": "code",
   "execution_count": null,
   "metadata": {
    "collapsed": false
   },
   "outputs": [],
   "source": [
    "#Dataframe for Interactions\n",
    "df.loc[df['ToppGene Feature'] == 'Interaction']"
   ]
  },
  {
   "cell_type": "code",
   "execution_count": null,
   "metadata": {
    "collapsed": false
   },
   "outputs": [],
   "source": [
    "#Dataframe for Cytobands\n",
    "df.loc[df['ToppGene Feature'] == 'Cytoband']"
   ]
  },
  {
   "cell_type": "code",
   "execution_count": null,
   "metadata": {
    "collapsed": false
   },
   "outputs": [],
   "source": [
    "#Dataframe for Transcription Factor Binding Sites\n",
    "df.loc[df['ToppGene Feature'] == 'TranscriptionFactorBindingSite']"
   ]
  },
  {
   "cell_type": "code",
   "execution_count": null,
   "metadata": {
    "collapsed": false,
    "scrolled": true
   },
   "outputs": [],
   "source": [
    "#Dataframe for Gene Family\n",
    "df.loc[df['ToppGene Feature'] == 'GeneFamily']"
   ]
  },
  {
   "cell_type": "code",
   "execution_count": null,
   "metadata": {
    "collapsed": false
   },
   "outputs": [],
   "source": [
    "#Dataframe for Coexpression\n",
    "df.loc[df['ToppGene Feature'] == 'Coexpression']"
   ]
  },
  {
   "cell_type": "code",
   "execution_count": null,
   "metadata": {
    "collapsed": false
   },
   "outputs": [],
   "source": [
    "#DataFrame for Coexpression Atlas\n",
    "df.loc[df['ToppGene Feature'] == 'CoexpressionAtlas']"
   ]
  },
  {
   "cell_type": "code",
   "execution_count": null,
   "metadata": {
    "collapsed": false,
    "scrolled": true
   },
   "outputs": [],
   "source": [
    "#Dataframe for Computational\n",
    "df.loc[df['ToppGene Feature'] == 'Computational']"
   ]
  },
  {
   "cell_type": "code",
   "execution_count": null,
   "metadata": {
    "collapsed": false
   },
   "outputs": [],
   "source": [
    "#Dataframe for MicroRNAs\n",
    "df.loc[df['ToppGene Feature'] == 'MicroRNA']"
   ]
  },
  {
   "cell_type": "code",
   "execution_count": null,
   "metadata": {
    "collapsed": false
   },
   "outputs": [],
   "source": [
    "#Dataframe for Drugs\n",
    "df.loc[df['ToppGene Feature'] == 'Drug']"
   ]
  },
  {
   "cell_type": "code",
   "execution_count": null,
   "metadata": {
    "collapsed": false
   },
   "outputs": [],
   "source": [
    "#Dataframe for Diseases\n",
    "df.loc[df['ToppGene Feature'] == 'Disease']"
   ]
  },
  {
   "cell_type": "code",
   "execution_count": null,
   "metadata": {
    "collapsed": true
   },
   "outputs": [],
   "source": []
  }
 ],
 "metadata": {
  "anaconda-cloud": {},
  "kernelspec": {
   "display_name": "Python 2",
   "language": "python",
   "name": "python2"
  },
  "language_info": {
   "codemirror_mode": {
    "name": "ipython",
    "version": 2
   },
   "file_extension": ".py",
   "mimetype": "text/x-python",
   "name": "python",
   "nbconvert_exporter": "python",
   "pygments_lexer": "ipython2",
   "version": "2.7.11"
  }
 },
 "nbformat": 4,
 "nbformat_minor": 0
}
