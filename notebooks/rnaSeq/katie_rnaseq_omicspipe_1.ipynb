{
 "cells": [
  {
   "cell_type": "markdown",
   "metadata": {},
   "source": [
    "# Omics Pipe GUI -- RNAseq_Count_Based Pipeline"
   ]
  },
  {
   "cell_type": "code",
   "execution_count": 1,
   "metadata": {
    "collapsed": false
   },
   "outputs": [],
   "source": [
    "#Update parameters\n",
    "import yaml\n",
    "from omics_pipe.parameters.default_parameters import default_parameters \n",
    "parameters = \"/root/src/omics-pipe/tests/test_params_RNAseq_counts_AWS.yaml\"\n",
    "stream = file(parameters, 'r')\n",
    "params = yaml.load(stream)\n",
    "default_parameters.update(params)\n",
    "#View Parameters\n",
    "print params"
   ]
  },
  {
   "cell_type": "code",
   "execution_count": 10,
   "metadata": {
    "collapsed": false
   },
   "outputs": [
    {
     "name": "stdout",
     "output_type": "stream",
     "text": [
      "{'USERNAME': 'kfisch', 'COMPRESSION': 'none', 'REPOSITORY': 'https://kfisch@bitbucket.org/sulab/omics_pipe', 'PIPE_REBUILD': 'True', 'STAR_VERSION': '2.3.0e', 'SAMPLE_LIST': ['test1', 'test2'], 'RESULTS_PATH': '/data/results/', 'PVAL': '0.05', 'STEP': 'last_function', 'STEPS': ['fastqc', 'star', 'htseq', 'RNAseq_report_counts', 'last_function'], 'HTSEQ_OPTIONS': '-m intersection-nonempty -s no -t exon', 'DESEQ_META': '/root/src/omics-pipe/tests/counts_meta.csv', 'FASTQC_VERSION': '0.10.1', 'LOG_PATH': ':/data/results/logs', 'GENOME': '/data/database/Homo_sapiens/UCSC/hg19/Sequence/WholeGenomeFasta/genome.fa', 'QC_PATH': '/data/results/QC', 'R_SOURCE_PATH': '/root/src/omics-pipe/omics_pipe/scripts/reporting', 'FLAG_PATH': '/data/results/flags', 'RAW_DATA_DIR': '/root/src/omics-pipe/tests', 'PIPE_VERBOSE': 5, 'DESEQ_RESULTS': '/data/results/deseq', 'ENDS': 'SE', 'STAR_OPTIONS': '--readFilesCommand cat --runThreadN 8 --outSAMstrandField intronMotif --outFilterIntronMotifs RemoveNoncanonical', 'RESULTS_EMAIL': 'kfisch@scripps.edu', 'BAM_FILE_NAME': 'Aligned.out.bam', 'STAR_INDEX': '/data/database/Homo_sapiens/UCSC/hg19/star_genome', 'REPORT_RESULTS': '/data/results', 'PARAMS_FILE': '/root/src/omics-pipe/tests/test_params_RNAseq_counts_AWS.yaml', 'DRMAA_PATH': '/opt/sge6-fresh/lib/linux-x64/libdrmaa.so', 'STAR_RESULTS': '/data/results/star', 'R_VERSION': '3.1.0', 'TEMP_DIR': '/tmp', 'SUMATRA_DB_PATH': '/data/results/sumatra', 'SUMATRA_RUN_NAME': 'sumatra_project', 'PYTHON_VERSION': '2.7.4', 'QUEUE': 'all.q', 'HTSEQ_RESULTS': '/data/results/counts', 'REF_GENES': '/data/database/Homo_sapiens/UCSC/hg19/Annotation/Genes/genes.gtf', 'PIPE_MULTIPROCESS': 100, 'WORKING_DIR': '/root/src/omics-pipe/omics_pipe/scripts', 'SCHEDULER': 'SGE', 'DESIGN': '~ condition', 'HG_USERNAME': 'Kathleen Fisch <kfisch@scripps.edu>'}\n"
     ]
    }
   ],
   "source": []
  },
  {
   "cell_type": "code",
   "execution_count": 74,
   "metadata": {
    "collapsed": false
   },
   "outputs": [
    {
     "name": "stdout",
     "output_type": "stream",
     "text": [
      "/root/src/omics-pipe/tests/counts_meta.csv\n",
      "  Sample  condition     libType\n",
      "0  test1    Control  single-end\n",
      "1  test2  Condition  single-end\n",
      "2  test3    Control  single-end\n",
      "3  test4  Condition  single-end\n"
     ]
    }
   ],
   "source": [
    "type(params)\n",
    "print p.DESEQ_META\n",
    "x = pandas.read_csv(p.DESEQ_META)\n",
    "print x"
   ]
  },
  {
   "cell_type": "code",
   "execution_count": 76,
   "metadata": {
    "collapsed": false
   },
   "outputs": [
    {
     "name": "stdout",
     "output_type": "stream",
     "text": [
      "  Sample  condition     libType\n",
      "0  test1    control  single_end\n",
      "1  test2    control  single_end\n",
      "2  test3  treatment  single_end\n",
      "3  test4  treatment  single_end\n"
     ]
    }
   ],
   "source": [
    "###Customize parameters\n",
    "sample_names = [\"test1\", \"test2\", \"test3\", \"test4\"]\n",
    "condition = [\"control\", \"control\", \"treatment\", \"treatment\"]\n",
    "lib_type = [\"single_end\"]*len(condition)\n",
    "\n",
    "meta = {'Sample': pandas.Series(sample_names), 'condition': pandas.Series(condition) , 'libType': pandas.Series(lib_type)}\n",
    "meta_df = pandas.DataFrame(data = meta)\n",
    "deseq_meta_new = \"/data/results/new_meta.csv\"\n",
    "meta_df.to_csv(deseq_meta_new,index=False)\n",
    "print meta_df"
   ]
  },
  {
   "cell_type": "code",
   "execution_count": 80,
   "metadata": {
    "collapsed": false
   },
   "outputs": [
    {
     "name": "stdout",
     "output_type": "stream",
     "text": [
      "{'ADAPTER': 'TGGAATTCTCGGGTGCCAAGG', 'HOMER_PEAKS_OPTIONS': '-style factor -o auto', 'R_VERSION': '3.1.0', 'SAMTOOLS_VERSION': '0.1.19', 'HOMER_ANNOTATE_OPTIONS': '', 'MACS_RESULTS': '', 'STEPS': ['fastqc', 'star', 'htseq', 'RNAseq_report_counts', 'last_function'], 'ANNOVARDB': '/gpfs/group/databases/annovar/humandb', 'PYTHON_VERSION': '2.7.4', 'dbNSFP': '/gpfs/group/su/meissto/data/dbNSFP/dbNSFP2.0.txt', 'LOG_PATH': ':/data/results/logs', 'RSEQC_REF': '/gpfs/group/su/meissto/data/knowngene.bed', 'ANNOVAR_OPTIONS2': '-genetype knowngene --remove', 'QC_PATH': '/data/results/QC', 'INTOGEN_CONFIG': '/gpfs/group/sanford/patient/SSKT/SSKT_2/RNA/RNA_seq/results/intogen.conf', 'GENOME': '/data/database/Homo_sapiens/UCSC/hg19/Sequence/WholeGenomeFasta/genome.fa', 'SNPIR_CONFIG': '/gpfs/group/su/meissto/cancer_report/src/RNA', 'CUFFMERGE_RESULTS': '/gpfs/group/su/kfisch/Bodymap/results/assemblies/cuffmerge', 'PIPE_VERBOSE': 5, 'CLINVAR': '/gpfs/home/kfisch/scripts/omics_pipeline-devel/omics_pipe/scripts/reporting/ref/clinvar.txt', 'ENDS': 'SE', 'UCSC_TOOLS_VERSION': '273', 'TCGA_KEY': '/gpfs/group/sanford/TCGA/cghub.key', 'REPORT_RESULTS': '/data/results', 'PARAMS_FILE': '/root/src/omics-pipe/tests/test_params_RNAseq_counts_AWS.yaml', 'SAMTOOLS_OPTIONS': '-C 500', 'FUSIONCATCHERBUILD_DIR': '/gpfs/group/databases/ensembl_v72', 'SAMPLE_LIST': ['test1', 'test2'], 'SUMATRA_DB_PATH': '/data/results/sumatra', 'G1000': '', 'HOMER_MOTIFS_OPTIONS': '-size 200 -mask', 'RESOURCES': '-l nodes=1:ppn=8 -l mem=31gb', 'TCGA_XML_FILE': '/gpfs/group/sanford/TCGA/tcga_test.xml', 'PVAL': '0.05', 'VCF_FILE': '/gpfs/group/sanford/patient/SSKT/SSKT_2/RNA/RNA_seq/results/SNPIR/final_variants.vcf', 'SNPIR_DIR': '/opt/applications/snpir/1.0/bin', 'VCFTOOLS_VERSION': '0.1.10', 'REF_GENES_GENCODE': '', 'RESULTS_EMAIL': 'kfisch@scripps.edu', 'ANNOVAR_VERSION': '07292013', 'INTOGEN_VERSION': '2.3.0', 'REPORT_SCRIPT': '/gpfs/group/sanford/src/RNA/knitMeR.R', 'STAR_VERSION': '2.3.0e', 'GENELIST': '/gpfs/home/kfisch/scripts/omics_pipeline-devel/omics_pipe/scripts/reporting/ref/brca.txt', 'TRIMMED_DATA_PATH': '/gpfs/home/kfisch', 'STAR_OPTIONS': '--readFilesCommand cat --runThreadN 8 --outSAMstrandField intronMotif --outFilterIntronMotifs RemoveNoncanonical', 'DESIGN': '~ condition', 'VARIANT_RESULTS': '/gpfs/group/su/kfisch/OA/results/variants', 'DRUGBANK': '/gpfs/home/kfisch/scripts/omics_pipeline-devel/omics_pipe/scripts/reporting/ref/drugbank.tsv', 'HTSEQ_OPTIONS': '-m intersection-nonempty -s no -t exon', 'DESEQ_META': '/data/results/new_meta.csv', 'BWA_RESULTS': '', 'FUSIONCATCHER_VERSION': '0.98', 'SSH_USER_NAME': 'kfisch@hpcdata.scripps.edu', 'RAW_DATA_DIR': '/root/src/omics-pipe/tests', 'GATK_VERSION': '3.1-1', 'MACS_VERSION': '1.4.2', 'DBSNP': '', 'BOWTIE_INDEX': '/gpfs/group/databases/Homo_sapiens/UCSC/hg19/Sequence/Bowtie2Index/genome', 'VARSCAN_OPTIONS': '--min-var-freq 0.5 --min-avg-qual 30 --p-value 0.995 --output-vcf 1', 'BAM_FILE_NAME': 'Aligned.out.bam', 'PHARMGKB_Allele': '/gpfs/home/kfisch/scripts/omics_pipeline-devel/omics_pipe/scripts/reporting/ref/pharmgkbAllele.tsv', 'TOPHAT_FUSION_RESULTS': '/gpfs/group/su/kfisch/OA/results/fusions', 'DRMAA_PATH': '/opt/sge6-fresh/lib/linux-x64/libdrmaa.so', 'miRNA_BOWTIE_INDEX': '/gpfs/group/su/kfisch/references/bowtieindexes/miRNA', 'CUFFLINKS_OPTIONS': '-u -N', 'PHARMGKB_rsID': '/gpfs/home/kfisch/scripts/omics_pipeline-devel/omics_pipe/scripts/reporting/ref/pharmgkbRSID.csv', 'FUSIONCATCHER_OPTIONS': '', 'PICARD_VERSION': '1.92', 'SNPIR_RESULTS': '', 'HOMER_TRIM_OPTIONS': '-3 GATCGGAAGAGCACACGTCT -mis 1 -minMatchLength 6 -min 45', 'TCGA_OUTPUT_PATH': '/gpfs/group/sanford/TCGA', 'HOMER_RESULTS': '/gpfs/home/kfisch/scripts/omics_pipeline-devel/tests/test_run/homer', 'HG_USERNAME': 'Kathleen Fisch <kfisch@scripps.edu>', 'RNA_EDIT': '', 'TABIX_VERSION': '0.2.6', 'VARSCAN_PATH': '/opt/applications/varscan/2.3.6/VarScan.jar', 'CUFFDIFF_OPTIONS': '-p 8 -FDR 0.01 -L Normal,OA -N --compatible-hits-norm', 'QUEUE': 'all.q', 'TUMOR_TYPE': 'BRCA', 'TISSUE': 'EPI', 'COMPRESSION': 'none', 'FASTQC_VERSION': '0.10.1', 'COSMIC': '/gpfs/home/kfisch/scripts/omics_pipeline-devel/omics_pipe/scripts/reporting/ref/cosmic.tsv', 'TOPHAT_RESULTS': '/gpfs/group/su/kfisch/OA/results/mRNA/alignments', 'VARSCAN_VERSION': '2.3.6', 'R_SOURCE_PATH': '/root/src/omics-pipe/omics_pipe/scripts/reporting', 'CUFFDIFF_RESULTS': '/gpfs/group/su/kfisch/Bodymap/results/cuffdiff', 'CHROM': '/gpfs/group/databases/Homo_sapiens/UCSC/hg19/Sequence/Chromosomes', 'USERNAME': 'kfisch', 'STEPS_PAIRS': ['macs'], 'CUFFLINKS_VERSION': '2.1.1', 'STAR_INDEX': '/data/database/Homo_sapiens/UCSC/hg19/star_genome', 'MILLS': '', 'SUMATRA_RUN_NAME': 'sumatra_project', 'SNPIR_ANNOTATION': '', 'ANNOVAR_OPTIONS': '-buildver hg19 -protocol nonsyn_splicing,1000g2012apr_all,esp6500_ea,esp6500_aa,snp135NonFlagged,cg46,ljb_sift,ljb_pp2,dominant -operation g,f,f,f,f,f,f,f,m', 'HTSEQ_RESULTS': '/data/results/counts', 'BOWTIE_VERSION': '1.0.0', 'FUSIONCATCHER_RESULTS': '/gpfs/group/su/kfisch/OA/results/fusions', 'BWA_VERSION': '0.7.4', 'CHROM_SIZES': '/gpfs/group/su/kfisch/references/hg19.chrom.sizes', 'miRNA_GTF': '/gpfs/group/su/kfisch/references/miRBase/hsa.gff3', 'PIPE_MULTIPROCESS': 100, 'INTOGEN_RESULTS': '/gpfs/group/sanford/patient/SSKT/SSKT_2/RNA/RNA_seq/results/intogen', 'SNPEFF_VERSION': '3.5', 'REF_GENES': '/data/database/Homo_sapiens/UCSC/hg19/Annotation/Genes/genes.gtf', 'REPEAT_MASKER': '', 'CUFFMERGE_OPTIONS': '-p 8', 'TOPHAT_OPTIONS': '-a 5 --microexon-search --library-type fr-secondstrand --no-discordant', 'DESEQ_RESULTS': '/data/results/deseq', 'R_MARKUP_FILE': '/gpfs/group/sanford/src/RNA/sanfordRNASeqReport.Rmd', 'REPOSITORY': 'https://kfisch@bitbucket.org/sulab/omics_pipe', 'ENCODING': 'phred64', 'PIPE_REBUILD': 'True', 'CUFFLINKS_RESULTS': '/gpfs/group/su/kfisch/OA/results/mRNA/assemblies', 'TRIMGALORE_VERSION': '0.3.3', 'DPS_VERSION': '1.3.1111', 'RESULTS_PATH': '/data/results/', 'GATK_READ_GROUP_INFO': '', 'BWA_INDEX': '', 'CADD': '/gpfs/home/kfisch/scripts/omics_pipeline-devel/omics_pipe/scripts/reporting/ref/cadd.tsv.gz', 'TRIM_LENGTH_MIN': 10, 'HOMER_VERSION': '4.5', 'CUFFDIFF_INPUT_LIST_COND1': '/gpfs/group/su/kfisch/OA/results/miRNA/bamfiles/sample1.bam,/gpfs/group/su/kfisch/OA/results/miRNA/bamfiles/sample2.bam', 'BOWTIE_OPTIONS': '', 'STEP': 'last_function', 'TOPHAT_VERSION': '2.0.9', 'BWA_OPTIONS': '-t 8 -M', 'HTSEQ_GENCODE_RESULTS': '', 'PAIR_LIST': 'test1_chip-test1_input test2_chip-test2_input', 'CUFFMERGETOCOMPARE_OPTIONS': '-CG', 'STAR_RESULTS': '/data/results/star', 'TEMP_DIR': '/tmp', 'BEDTOOLS_VERSION': '2.17.0', 'SNPIR_VERSION': '1.0', 'RSEQC_VERSION': '2.3.7', 'INTOGEN_OPTIONS': '--single-tumor ', 'SNP_FILTER_OUT_REF': '/gpfs/group/sanford/src/RNA/vcf/common_no_known_medical_impact_00-latest.vcf', 'WORKING_DIR': '/root/src/omics-pipe/omics_pipe/scripts', 'SCHEDULER': 'SGE', 'CUFFDIFF_INPUT_LIST_COND2': '/gpfs/group/su/kfisch/OA/results/miRNA/bamfiles/sample3.bam', 'FLAG_PATH': '/data/results/flags'}\n"
     ]
    }
   ],
   "source": [
    "default_parameters.update({\"DESEQ_META\": deseq_meta_new}) \n",
    "print default_parameters"
   ]
  },
  {
   "cell_type": "code",
   "execution_count": 22,
   "metadata": {
    "collapsed": false
   },
   "outputs": [],
   "source": [
    "from IPython.display import IFrame\n",
    "import pandas"
   ]
  },
  {
   "cell_type": "code",
   "execution_count": 3,
   "metadata": {
    "collapsed": true
   },
   "outputs": [],
   "source": [
    "#Import Omics Pipe RNAseq_count_based pipeline functions from pipeline script\n",
    "from omics_pipe.RNAseq_count_based import *"
   ]
  },
  {
   "cell_type": "code",
   "execution_count": 4,
   "metadata": {
    "collapsed": false
   },
   "outputs": [
    {
     "name": "stdout",
     "output_type": "stream",
     "text": [
      "sample name is:  test4\n",
      "Creating job template for fastqc\n",
      "Job template created\n",
      "job name is fastqc_test4\n",
      "native specification is -V -cwd -l h_rt=12:00:00 -l h_vmem=2G\n",
      "ArgsList is [u'test4', u'/root/src/omics-pipe/tests', u'/data/results/QC', u'0.10.1']\n",
      "Date/Time: 2016-03-09 00:16\n",
      "Job has been submitted with id51 at Date/Time: 2016-03-09 00:16\n",
      "Job: 51 finished with status: True and exit status: 0 at Date/Time: 2016-03-09 00:17\n",
      "Date/Time: 2016-03-09 00:17\n",
      "Cleaning up\n",
      "fastqc Finished and Successfully produced an output file of size 33319\n"
     ]
    }
   ],
   "source": [
    "#QC of Raw Data\n",
    "run_fastqc(sample, \"/data/results/flags/fastqc_test4_completed.flag\")"
   ]
  },
  {
   "cell_type": "code",
   "execution_count": 7,
   "metadata": {
    "collapsed": false
   },
   "outputs": [
    {
     "data": {
      "text/html": [
       "\n",
       "        <iframe\n",
       "            width=\"700\"\n",
       "            height=\"350\"\n",
       "            src=\"/data/results/QC/test4/test4_fastqc/fastqc_report.html\"\n",
       "            frameborder=\"0\"\n",
       "            allowfullscreen\n",
       "        ></iframe>\n",
       "        "
      ],
      "text/plain": [
       "<IPython.lib.display.IFrame at 0x7f4f3cf52490>"
      ]
     },
     "execution_count": 7,
     "metadata": {},
     "output_type": "execute_result"
    }
   ],
   "source": [
    "#Display QC results\n",
    "IFrame('/data/results/QC/test4/test4_fastqc/fastqc_report.html', width=700, height=350)"
   ]
  },
  {
   "cell_type": "code",
   "execution_count": 11,
   "metadata": {
    "collapsed": false
   },
   "outputs": [
    {
     "name": "stdout",
     "output_type": "stream",
     "text": [
      "Creating job template for star\n",
      "Job template created\n",
      "job name is star_test4\n",
      "native specification is -V -cwd -l h_rt=120:00:00 -l h_vmem=29G\n",
      "ArgsList is [u'test4', u'/root/src/omics-pipe/tests', u'/data/database/Homo_sapiens/UCSC/hg19/star_genome', u'--readFilesCommand cat --runThreadN 8 --outSAMstrandField intronMotif --outFilterIntronMotifs RemoveNoncanonical', u'/data/results/star', u'0.1.19', u'2.3.0e']\n"
     ]
    },
    {
     "ename": "DeniedByDrmException",
     "evalue": "code 17: error: no suitable queues",
     "output_type": "error",
     "traceback": [
      "\u001b[1;31m---------------------------------------------------------------------------\u001b[0m",
      "\u001b[1;31mDeniedByDrmException\u001b[0m                      Traceback (most recent call last)",
      "\u001b[1;32m<ipython-input-11-0f3583f26cca>\u001b[0m in \u001b[0;36m<module>\u001b[1;34m()\u001b[0m\n\u001b[0;32m      1\u001b[0m \u001b[1;31m#Alignment\u001b[0m\u001b[1;33m\u001b[0m\u001b[1;33m\u001b[0m\u001b[0m\n\u001b[1;32m----> 2\u001b[1;33m \u001b[0mrun_star\u001b[0m\u001b[1;33m(\u001b[0m\u001b[0msample\u001b[0m\u001b[1;33m,\u001b[0m \u001b[1;34m\"/data/results/flags/star_test4_completed.flag\"\u001b[0m\u001b[1;33m)\u001b[0m\u001b[1;33m\u001b[0m\u001b[0m\n\u001b[0m",
      "\u001b[1;32m/root/anaconda3/envs/py27/lib/python2.7/site-packages/omics_pipe/RNAseq_count_based.pyc\u001b[0m in \u001b[0;36mrun_star\u001b[1;34m(sample, star_flag)\u001b[0m\n\u001b[0;32m     43\u001b[0m \u001b[1;33m@\u001b[0m\u001b[0mcheck_if_uptodate\u001b[0m\u001b[1;33m(\u001b[0m\u001b[0mcheck_file_exists\u001b[0m\u001b[1;33m)\u001b[0m\u001b[1;33m\u001b[0m\u001b[0m\n\u001b[0;32m     44\u001b[0m \u001b[1;32mdef\u001b[0m \u001b[0mrun_star\u001b[0m\u001b[1;33m(\u001b[0m\u001b[0msample\u001b[0m\u001b[1;33m,\u001b[0m \u001b[0mstar_flag\u001b[0m\u001b[1;33m)\u001b[0m\u001b[1;33m:\u001b[0m\u001b[1;33m\u001b[0m\u001b[0m\n\u001b[1;32m---> 45\u001b[1;33m     \u001b[0mstar\u001b[0m\u001b[1;33m(\u001b[0m\u001b[0msample\u001b[0m\u001b[1;33m,\u001b[0m \u001b[0mstar_flag\u001b[0m\u001b[1;33m)\u001b[0m\u001b[1;33m\u001b[0m\u001b[0m\n\u001b[0m\u001b[0;32m     46\u001b[0m     \u001b[1;32mreturn\u001b[0m\u001b[1;33m\u001b[0m\u001b[0m\n\u001b[0;32m     47\u001b[0m \u001b[1;33m\u001b[0m\u001b[0m\n",
      "\u001b[1;32m/root/anaconda3/envs/py27/lib/python2.7/site-packages/omics_pipe/modules/star.pyc\u001b[0m in \u001b[0;36mstar\u001b[1;34m(sample, star_flag)\u001b[0m\n\u001b[0;32m     32\u001b[0m         \u001b[0mSTAR_VERSION\u001b[0m\u001b[1;33m:\u001b[0m\u001b[1;33m\u001b[0m\u001b[0m\n\u001b[0;32m     33\u001b[0m         ''' \n\u001b[1;32m---> 34\u001b[1;33m     \u001b[0mspawn_job\u001b[0m\u001b[1;33m(\u001b[0m\u001b[0mjobname\u001b[0m \u001b[1;33m=\u001b[0m \u001b[1;34m'star'\u001b[0m\u001b[1;33m,\u001b[0m \u001b[0mSAMPLE\u001b[0m \u001b[1;33m=\u001b[0m \u001b[0msample\u001b[0m\u001b[1;33m,\u001b[0m \u001b[0mLOG_PATH\u001b[0m \u001b[1;33m=\u001b[0m \u001b[0mp\u001b[0m\u001b[1;33m.\u001b[0m\u001b[0mLOG_PATH\u001b[0m\u001b[1;33m,\u001b[0m \u001b[0mRESULTS_EMAIL\u001b[0m \u001b[1;33m=\u001b[0m \u001b[0mp\u001b[0m\u001b[1;33m.\u001b[0m\u001b[0mRESULTS_EMAIL\u001b[0m\u001b[1;33m,\u001b[0m \u001b[0mSCHEDULER\u001b[0m \u001b[1;33m=\u001b[0m \u001b[0mp\u001b[0m\u001b[1;33m.\u001b[0m\u001b[0mSCHEDULER\u001b[0m\u001b[1;33m,\u001b[0m \u001b[0mwalltime\u001b[0m \u001b[1;33m=\u001b[0m \u001b[1;34m\"120:00:00\"\u001b[0m\u001b[1;33m,\u001b[0m \u001b[0mqueue\u001b[0m \u001b[1;33m=\u001b[0m \u001b[0mp\u001b[0m\u001b[1;33m.\u001b[0m\u001b[0mQUEUE\u001b[0m\u001b[1;33m,\u001b[0m \u001b[0mnodes\u001b[0m \u001b[1;33m=\u001b[0m \u001b[1;36m1\u001b[0m\u001b[1;33m,\u001b[0m \u001b[0mppn\u001b[0m \u001b[1;33m=\u001b[0m \u001b[1;36m8\u001b[0m\u001b[1;33m,\u001b[0m \u001b[0mmemory\u001b[0m \u001b[1;33m=\u001b[0m \u001b[1;34m\"29gb\"\u001b[0m\u001b[1;33m,\u001b[0m \u001b[0mscript\u001b[0m \u001b[1;33m=\u001b[0m \u001b[1;34m\"/star_drmaa_\"\u001b[0m \u001b[1;33m+\u001b[0m \u001b[0mp\u001b[0m\u001b[1;33m.\u001b[0m\u001b[0mENDS\u001b[0m \u001b[1;33m+\u001b[0m \u001b[1;34m\".sh\"\u001b[0m\u001b[1;33m,\u001b[0m \u001b[0margs_list\u001b[0m \u001b[1;33m=\u001b[0m \u001b[1;33m[\u001b[0m\u001b[0msample\u001b[0m\u001b[1;33m,\u001b[0m \u001b[0mp\u001b[0m\u001b[1;33m.\u001b[0m\u001b[0mRAW_DATA_DIR\u001b[0m\u001b[1;33m,\u001b[0m \u001b[0mp\u001b[0m\u001b[1;33m.\u001b[0m\u001b[0mSTAR_INDEX\u001b[0m\u001b[1;33m,\u001b[0m \u001b[0mp\u001b[0m\u001b[1;33m.\u001b[0m\u001b[0mSTAR_OPTIONS\u001b[0m\u001b[1;33m,\u001b[0m \u001b[0mp\u001b[0m\u001b[1;33m.\u001b[0m\u001b[0mSTAR_RESULTS\u001b[0m\u001b[1;33m,\u001b[0m \u001b[0mp\u001b[0m\u001b[1;33m.\u001b[0m\u001b[0mSAMTOOLS_VERSION\u001b[0m\u001b[1;33m,\u001b[0m \u001b[0mp\u001b[0m\u001b[1;33m.\u001b[0m\u001b[0mSTAR_VERSION\u001b[0m\u001b[1;33m]\u001b[0m\u001b[1;33m)\u001b[0m\u001b[1;33m\u001b[0m\u001b[0m\n\u001b[0m\u001b[0;32m     35\u001b[0m     \u001b[0mjob_status\u001b[0m\u001b[1;33m(\u001b[0m\u001b[0mjobname\u001b[0m \u001b[1;33m=\u001b[0m \u001b[1;34m'star'\u001b[0m\u001b[1;33m,\u001b[0m \u001b[0mresultspath\u001b[0m \u001b[1;33m=\u001b[0m \u001b[0mp\u001b[0m\u001b[1;33m.\u001b[0m\u001b[0mSTAR_RESULTS\u001b[0m\u001b[1;33m,\u001b[0m \u001b[0mSAMPLE\u001b[0m \u001b[1;33m=\u001b[0m \u001b[0msample\u001b[0m\u001b[1;33m,\u001b[0m \u001b[0moutputfilename\u001b[0m \u001b[1;33m=\u001b[0m \u001b[0msample\u001b[0m \u001b[1;33m+\u001b[0m \u001b[1;34m\"/SJ.out.tab\"\u001b[0m\u001b[1;33m,\u001b[0m \u001b[0mFLAG_PATH\u001b[0m \u001b[1;33m=\u001b[0m \u001b[0mp\u001b[0m\u001b[1;33m.\u001b[0m\u001b[0mFLAG_PATH\u001b[0m\u001b[1;33m)\u001b[0m\u001b[1;33m\u001b[0m\u001b[0m\n\u001b[0;32m     36\u001b[0m     \u001b[1;32mreturn\u001b[0m\u001b[1;33m\u001b[0m\u001b[0m\n",
      "\u001b[1;32m/root/anaconda3/envs/py27/lib/python2.7/site-packages/omics_pipe/utils.pyc\u001b[0m in \u001b[0;36mspawn_job\u001b[1;34m(jobname, SAMPLE, LOG_PATH, RESULTS_EMAIL, SCHEDULER, walltime, queue, nodes, ppn, memory, script, args_list)\u001b[0m\n\u001b[0;32m     58\u001b[0m     \u001b[1;32mprint\u001b[0m \u001b[1;34m\"ArgsList is \"\u001b[0m \u001b[1;33m+\u001b[0m \u001b[0mstr\u001b[0m\u001b[1;33m(\u001b[0m\u001b[0mjt\u001b[0m\u001b[1;33m.\u001b[0m\u001b[0margs\u001b[0m\u001b[1;33m)\u001b[0m\u001b[1;33m\u001b[0m\u001b[0m\n\u001b[0;32m     59\u001b[0m     \u001b[0mjt\u001b[0m\u001b[1;33m.\u001b[0m\u001b[0mjoinFiles\u001b[0m \u001b[1;33m=\u001b[0m \u001b[0mTrue\u001b[0m\u001b[1;33m\u001b[0m\u001b[0m\n\u001b[1;32m---> 60\u001b[1;33m     \u001b[0mjobid\u001b[0m \u001b[1;33m=\u001b[0m \u001b[0ms\u001b[0m\u001b[1;33m.\u001b[0m\u001b[0mrunJob\u001b[0m\u001b[1;33m(\u001b[0m\u001b[0mjt\u001b[0m\u001b[1;33m)\u001b[0m\u001b[1;33m\u001b[0m\u001b[0m\n\u001b[0m\u001b[0;32m     61\u001b[0m     \u001b[0mnow\u001b[0m \u001b[1;33m=\u001b[0m \u001b[0mdatetime\u001b[0m\u001b[1;33m.\u001b[0m\u001b[0mdatetime\u001b[0m\u001b[1;33m.\u001b[0m\u001b[0mnow\u001b[0m\u001b[1;33m(\u001b[0m\u001b[1;33m)\u001b[0m\u001b[1;33m\u001b[0m\u001b[0m\n\u001b[0;32m     62\u001b[0m     \u001b[0mdate\u001b[0m \u001b[1;33m=\u001b[0m \u001b[0mnow\u001b[0m\u001b[1;33m.\u001b[0m\u001b[0mstrftime\u001b[0m\u001b[1;33m(\u001b[0m\u001b[1;34m\"%Y-%m-%d %H:%M\"\u001b[0m\u001b[1;33m)\u001b[0m\u001b[1;33m\u001b[0m\u001b[0m\n",
      "\u001b[1;32m/root/anaconda3/envs/py27/lib/python2.7/site-packages/drmaa/session.pyc\u001b[0m in \u001b[0;36mrunJob\u001b[1;34m(jobTemplate)\u001b[0m\n\u001b[0;32m    312\u001b[0m         \"\"\"\n\u001b[0;32m    313\u001b[0m         \u001b[0mjid\u001b[0m \u001b[1;33m=\u001b[0m \u001b[0mcreate_string_buffer\u001b[0m\u001b[1;33m(\u001b[0m\u001b[1;36m128\u001b[0m\u001b[1;33m)\u001b[0m\u001b[1;33m\u001b[0m\u001b[0m\n\u001b[1;32m--> 314\u001b[1;33m         \u001b[0mc\u001b[0m\u001b[1;33m(\u001b[0m\u001b[0mdrmaa_run_job\u001b[0m\u001b[1;33m,\u001b[0m \u001b[0mjid\u001b[0m\u001b[1;33m,\u001b[0m \u001b[0msizeof\u001b[0m\u001b[1;33m(\u001b[0m\u001b[0mjid\u001b[0m\u001b[1;33m)\u001b[0m\u001b[1;33m,\u001b[0m \u001b[0mjobTemplate\u001b[0m\u001b[1;33m)\u001b[0m\u001b[1;33m\u001b[0m\u001b[0m\n\u001b[0m\u001b[0;32m    315\u001b[0m         \u001b[1;32mreturn\u001b[0m \u001b[0mjid\u001b[0m\u001b[1;33m.\u001b[0m\u001b[0mvalue\u001b[0m\u001b[1;33m.\u001b[0m\u001b[0mdecode\u001b[0m\u001b[1;33m(\u001b[0m\u001b[1;33m)\u001b[0m\u001b[1;33m\u001b[0m\u001b[0m\n\u001b[0;32m    316\u001b[0m \u001b[1;33m\u001b[0m\u001b[0m\n",
      "\u001b[1;32m/root/anaconda3/envs/py27/lib/python2.7/site-packages/drmaa/helpers.pyc\u001b[0m in \u001b[0;36mc\u001b[1;34m(f, *args)\u001b[0m\n\u001b[0;32m    297\u001b[0m     \u001b[0mmanaging\u001b[0m \u001b[0mcode\u001b[0m\u001b[1;33m.\u001b[0m\u001b[1;33m\u001b[0m\u001b[0m\n\u001b[0;32m    298\u001b[0m     \"\"\"\n\u001b[1;32m--> 299\u001b[1;33m     \u001b[1;32mreturn\u001b[0m \u001b[0mf\u001b[0m\u001b[1;33m(\u001b[0m\u001b[1;33m*\u001b[0m\u001b[1;33m(\u001b[0m\u001b[0margs\u001b[0m \u001b[1;33m+\u001b[0m \u001b[1;33m(\u001b[0m\u001b[0merror_buffer\u001b[0m\u001b[1;33m,\u001b[0m \u001b[0msizeof\u001b[0m\u001b[1;33m(\u001b[0m\u001b[0merror_buffer\u001b[0m\u001b[1;33m)\u001b[0m\u001b[1;33m)\u001b[0m\u001b[1;33m)\u001b[0m\u001b[1;33m)\u001b[0m\u001b[1;33m\u001b[0m\u001b[0m\n\u001b[0m\u001b[0;32m    300\u001b[0m \u001b[1;33m\u001b[0m\u001b[0m\n\u001b[0;32m    301\u001b[0m \u001b[1;33m\u001b[0m\u001b[0m\n",
      "\u001b[1;32m/root/anaconda3/envs/py27/lib/python2.7/site-packages/drmaa/errors.pyc\u001b[0m in \u001b[0;36merror_check\u001b[1;34m(code)\u001b[0m\n\u001b[0;32m    149\u001b[0m         \u001b[0merror_string\u001b[0m \u001b[1;33m=\u001b[0m \u001b[1;34m\"code {0}: {1}\"\u001b[0m\u001b[1;33m.\u001b[0m\u001b[0mformat\u001b[0m\u001b[1;33m(\u001b[0m\u001b[0mcode\u001b[0m\u001b[1;33m,\u001b[0m \u001b[0merror_buffer\u001b[0m\u001b[1;33m.\u001b[0m\u001b[0mvalue\u001b[0m\u001b[1;33m.\u001b[0m\u001b[0mdecode\u001b[0m\u001b[1;33m(\u001b[0m\u001b[1;33m)\u001b[0m\u001b[1;33m)\u001b[0m\u001b[1;33m\u001b[0m\u001b[0m\n\u001b[0;32m    150\u001b[0m         \u001b[1;32mtry\u001b[0m\u001b[1;33m:\u001b[0m\u001b[1;33m\u001b[0m\u001b[0m\n\u001b[1;32m--> 151\u001b[1;33m             \u001b[1;32mraise\u001b[0m \u001b[0m_ERRORS\u001b[0m\u001b[1;33m[\u001b[0m\u001b[0mcode\u001b[0m \u001b[1;33m-\u001b[0m \u001b[1;36m1\u001b[0m\u001b[1;33m]\u001b[0m\u001b[1;33m(\u001b[0m\u001b[0merror_string\u001b[0m\u001b[1;33m)\u001b[0m\u001b[1;33m\u001b[0m\u001b[0m\n\u001b[0m\u001b[0;32m    152\u001b[0m         \u001b[1;32mexcept\u001b[0m \u001b[0mIndexError\u001b[0m\u001b[1;33m:\u001b[0m\u001b[1;33m\u001b[0m\u001b[0m\n\u001b[0;32m    153\u001b[0m             \u001b[1;32mraise\u001b[0m \u001b[0mDrmaaException\u001b[0m\u001b[1;33m(\u001b[0m\u001b[0merror_string\u001b[0m\u001b[1;33m)\u001b[0m\u001b[1;33m\u001b[0m\u001b[0m\n",
      "\u001b[1;31mDeniedByDrmException\u001b[0m: code 17: error: no suitable queues"
     ]
    }
   ],
   "source": [
    "#Alignment\n",
    "run_star(sample, \"/data/results/flags/star_test4_completed.flag\")"
   ]
  },
  {
   "cell_type": "code",
   "execution_count": 16,
   "metadata": {
    "collapsed": false
   },
   "outputs": [
    {
     "name": "stdout",
     "output_type": "stream",
     "text": [
      "                                 Started job on |\tDec 06 00:29:07\n",
      "                             Started mapping on |\tDec 06 01:12:03\n",
      "                                    Finished on |\tDec 06 01:45:24\n",
      "       Mapping speed, Million of reads per hour |\t67.18\n",
      "\n",
      "                          Number of input reads |\t37341760\n",
      "                      Average input read length |\t100\n",
      "                                    UNIQUE READS:\n",
      "                   Uniquely mapped reads number |\t17461913\n",
      "                        Uniquely mapped reads % |\t46.76%\n",
      "                          Average mapped length |\t99.21\n",
      "                       Number of splices: Total |\t3913083\n",
      "            Number of splices: Annotated (sjdb) |\t0\n",
      "                       Number of splices: GT/AG |\t3883029\n",
      "                       Number of splices: GC/AG |\t28312\n",
      "                       Number of splices: AT/AC |\t1742\n",
      "               Number of splices: Non-canonical |\t0\n",
      "                      Mismatch rate per base, % |\t0.31%\n",
      "                         Deletion rate per base |\t0.01%\n",
      "                        Deletion average length |\t1.63\n",
      "                        Insertion rate per base |\t0.01%\n",
      "                       Insertion average length |\t1.50\n",
      "                             MULTI-MAPPING READS:\n",
      "        Number of reads mapped to multiple loci |\t985666\n",
      "             % of reads mapped to multiple loci |\t2.64%\n",
      "        Number of reads mapped to too many loci |\t11068\n",
      "             % of reads mapped to too many loci |\t0.03%\n",
      "                                  UNMAPPED READS:\n",
      "       % of reads unmapped: too many mismatches |\t0.00%\n",
      "                 % of reads unmapped: too short |\t50.55%\n",
      "                     % of reads unmapped: other |\t0.01%\n",
      "\n"
     ]
    }
   ],
   "source": [
    "#View Alignment Statistics\n",
    "fname = \"/data/results/star/test4/Log.final.out\"\n",
    "with open(fname, 'r') as fin:\n",
    "    print fin.read()"
   ]
  },
  {
   "cell_type": "code",
   "execution_count": 17,
   "metadata": {
    "collapsed": false
   },
   "outputs": [
    {
     "ename": "AlreadyActiveSessionException",
     "evalue": "code 11: Initialization failed due to existing DRMAA session.",
     "output_type": "error",
     "traceback": [
      "\u001b[1;31m---------------------------------------------------------------------------\u001b[0m",
      "\u001b[1;31mAlreadyActiveSessionException\u001b[0m             Traceback (most recent call last)",
      "\u001b[1;32m<ipython-input-17-4e50ad9b99b0>\u001b[0m in \u001b[0;36m<module>\u001b[1;34m()\u001b[0m\n\u001b[0;32m      1\u001b[0m \u001b[1;31m#Count Aligned Reads with HTseq-count\u001b[0m\u001b[1;33m\u001b[0m\u001b[1;33m\u001b[0m\u001b[0m\n\u001b[1;32m----> 2\u001b[1;33m \u001b[0mrun_htseq\u001b[0m\u001b[1;33m(\u001b[0m\u001b[0msample\u001b[0m\u001b[1;33m,\u001b[0m \u001b[1;34m\"/data/results/flags/htseq_test4_completed.flag\"\u001b[0m\u001b[1;33m)\u001b[0m\u001b[1;33m\u001b[0m\u001b[0m\n\u001b[0m",
      "\u001b[1;32m/root/anaconda3/envs/py27/lib/python2.7/site-packages/omics_pipe/RNAseq_count_based.pyc\u001b[0m in \u001b[0;36mrun_htseq\u001b[1;34m(sample, htseq_flag)\u001b[0m\n\u001b[0;32m     50\u001b[0m \u001b[1;33m@\u001b[0m\u001b[0mcheck_if_uptodate\u001b[0m\u001b[1;33m(\u001b[0m\u001b[0mcheck_file_exists\u001b[0m\u001b[1;33m)\u001b[0m\u001b[1;33m\u001b[0m\u001b[0m\n\u001b[0;32m     51\u001b[0m \u001b[1;32mdef\u001b[0m \u001b[0mrun_htseq\u001b[0m\u001b[1;33m(\u001b[0m\u001b[0msample\u001b[0m\u001b[1;33m,\u001b[0m \u001b[0mhtseq_flag\u001b[0m\u001b[1;33m)\u001b[0m\u001b[1;33m:\u001b[0m\u001b[1;33m\u001b[0m\u001b[0m\n\u001b[1;32m---> 52\u001b[1;33m     \u001b[0mhtseq\u001b[0m\u001b[1;33m(\u001b[0m\u001b[0msample\u001b[0m\u001b[1;33m,\u001b[0m \u001b[0mhtseq_flag\u001b[0m\u001b[1;33m)\u001b[0m\u001b[1;33m\u001b[0m\u001b[0m\n\u001b[0m\u001b[0;32m     53\u001b[0m     \u001b[1;32mreturn\u001b[0m\u001b[1;33m\u001b[0m\u001b[0m\n\u001b[0;32m     54\u001b[0m \u001b[1;33m\u001b[0m\u001b[0m\n",
      "\u001b[1;32m/root/anaconda3/envs/py27/lib/python2.7/site-packages/omics_pipe/modules/htseq.pyc\u001b[0m in \u001b[0;36mhtseq\u001b[1;34m(sample, htseq_flag)\u001b[0m\n\u001b[0;32m     34\u001b[0m         \u001b[0mPYTHON_VERSION\u001b[0m\u001b[1;33m:\u001b[0m\u001b[1;33m\u001b[0m\u001b[0m\n\u001b[0;32m     35\u001b[0m         '''\n\u001b[1;32m---> 36\u001b[1;33m     \u001b[0mspawn_job\u001b[0m\u001b[1;33m(\u001b[0m\u001b[0mjobname\u001b[0m \u001b[1;33m=\u001b[0m \u001b[1;34m'htseq'\u001b[0m\u001b[1;33m,\u001b[0m \u001b[0mSAMPLE\u001b[0m \u001b[1;33m=\u001b[0m \u001b[0msample\u001b[0m\u001b[1;33m,\u001b[0m \u001b[0mLOG_PATH\u001b[0m \u001b[1;33m=\u001b[0m \u001b[0mp\u001b[0m\u001b[1;33m.\u001b[0m\u001b[0mLOG_PATH\u001b[0m\u001b[1;33m,\u001b[0m \u001b[0mRESULTS_EMAIL\u001b[0m \u001b[1;33m=\u001b[0m \u001b[0mp\u001b[0m\u001b[1;33m.\u001b[0m\u001b[0mRESULTS_EMAIL\u001b[0m\u001b[1;33m,\u001b[0m \u001b[0mSCHEDULER\u001b[0m \u001b[1;33m=\u001b[0m \u001b[0mp\u001b[0m\u001b[1;33m.\u001b[0m\u001b[0mSCHEDULER\u001b[0m\u001b[1;33m,\u001b[0m \u001b[0mwalltime\u001b[0m \u001b[1;33m=\u001b[0m \u001b[1;34m\"120:00:00\"\u001b[0m\u001b[1;33m,\u001b[0m \u001b[0mqueue\u001b[0m \u001b[1;33m=\u001b[0m \u001b[0mp\u001b[0m\u001b[1;33m.\u001b[0m\u001b[0mQUEUE\u001b[0m\u001b[1;33m,\u001b[0m \u001b[0mnodes\u001b[0m \u001b[1;33m=\u001b[0m \u001b[1;36m1\u001b[0m\u001b[1;33m,\u001b[0m \u001b[0mppn\u001b[0m \u001b[1;33m=\u001b[0m \u001b[1;36m8\u001b[0m\u001b[1;33m,\u001b[0m \u001b[0mmemory\u001b[0m \u001b[1;33m=\u001b[0m \u001b[1;34m\"15gb\"\u001b[0m\u001b[1;33m,\u001b[0m \u001b[0mscript\u001b[0m \u001b[1;33m=\u001b[0m \u001b[1;34m\"/htseq_drmaa.sh\"\u001b[0m\u001b[1;33m,\u001b[0m \u001b[0margs_list\u001b[0m \u001b[1;33m=\u001b[0m \u001b[1;33m[\u001b[0m\u001b[0msample\u001b[0m\u001b[1;33m,\u001b[0m\u001b[0mp\u001b[0m\u001b[1;33m.\u001b[0m\u001b[0mSTAR_RESULTS\u001b[0m\u001b[1;33m,\u001b[0m\u001b[0mp\u001b[0m\u001b[1;33m.\u001b[0m\u001b[0mHTSEQ_OPTIONS\u001b[0m\u001b[1;33m,\u001b[0m\u001b[0mp\u001b[0m\u001b[1;33m.\u001b[0m\u001b[0mREF_GENES\u001b[0m\u001b[1;33m,\u001b[0m\u001b[0mp\u001b[0m\u001b[1;33m.\u001b[0m\u001b[0mHTSEQ_RESULTS\u001b[0m\u001b[1;33m,\u001b[0m\u001b[0mp\u001b[0m\u001b[1;33m.\u001b[0m\u001b[0mTEMP_DIR\u001b[0m\u001b[1;33m,\u001b[0m\u001b[0mp\u001b[0m\u001b[1;33m.\u001b[0m\u001b[0mSAMTOOLS_VERSION\u001b[0m\u001b[1;33m,\u001b[0m \u001b[0mp\u001b[0m\u001b[1;33m.\u001b[0m\u001b[0mBAM_FILE_NAME\u001b[0m\u001b[1;33m,\u001b[0m \u001b[0mp\u001b[0m\u001b[1;33m.\u001b[0m\u001b[0mPYTHON_VERSION\u001b[0m\u001b[1;33m]\u001b[0m\u001b[1;33m)\u001b[0m\u001b[1;33m\u001b[0m\u001b[0m\n\u001b[0m\u001b[0;32m     37\u001b[0m     \u001b[0mjob_status\u001b[0m\u001b[1;33m(\u001b[0m\u001b[0mjobname\u001b[0m \u001b[1;33m=\u001b[0m \u001b[1;34m'htseq'\u001b[0m\u001b[1;33m,\u001b[0m \u001b[0mresultspath\u001b[0m \u001b[1;33m=\u001b[0m \u001b[0mp\u001b[0m\u001b[1;33m.\u001b[0m\u001b[0mHTSEQ_RESULTS\u001b[0m\u001b[1;33m,\u001b[0m \u001b[0mSAMPLE\u001b[0m \u001b[1;33m=\u001b[0m \u001b[0msample\u001b[0m\u001b[1;33m,\u001b[0m \u001b[0moutputfilename\u001b[0m \u001b[1;33m=\u001b[0m \u001b[0msample\u001b[0m \u001b[1;33m+\u001b[0m \u001b[1;34m\"_counts.txt\"\u001b[0m\u001b[1;33m,\u001b[0m \u001b[0mFLAG_PATH\u001b[0m \u001b[1;33m=\u001b[0m \u001b[0mp\u001b[0m\u001b[1;33m.\u001b[0m\u001b[0mFLAG_PATH\u001b[0m\u001b[1;33m)\u001b[0m\u001b[1;33m\u001b[0m\u001b[0m\n\u001b[0;32m     38\u001b[0m     \u001b[1;32mreturn\u001b[0m\u001b[1;33m\u001b[0m\u001b[0m\n",
      "\u001b[1;32m/root/anaconda3/envs/py27/lib/python2.7/site-packages/omics_pipe/utils.pyc\u001b[0m in \u001b[0;36mspawn_job\u001b[1;34m(jobname, SAMPLE, LOG_PATH, RESULTS_EMAIL, SCHEDULER, walltime, queue, nodes, ppn, memory, script, args_list)\u001b[0m\n\u001b[0;32m     25\u001b[0m     \u001b[1;32mimport\u001b[0m \u001b[0mdrmaa\u001b[0m\u001b[1;33m\u001b[0m\u001b[0m\n\u001b[0;32m     26\u001b[0m     \u001b[0ms\u001b[0m \u001b[1;33m=\u001b[0m \u001b[0mdrmaa\u001b[0m\u001b[1;33m.\u001b[0m\u001b[0mSession\u001b[0m\u001b[1;33m(\u001b[0m\u001b[1;33m)\u001b[0m\u001b[1;33m\u001b[0m\u001b[0m\n\u001b[1;32m---> 27\u001b[1;33m     \u001b[0ms\u001b[0m\u001b[1;33m.\u001b[0m\u001b[0minitialize\u001b[0m\u001b[1;33m(\u001b[0m\u001b[1;33m)\u001b[0m\u001b[1;33m\u001b[0m\u001b[0m\n\u001b[0m\u001b[0;32m     28\u001b[0m     \u001b[1;32mprint\u001b[0m \u001b[1;34m'Creating job template for '\u001b[0m \u001b[1;33m+\u001b[0m \u001b[0mjobname\u001b[0m\u001b[1;33m\u001b[0m\u001b[0m\n\u001b[0;32m     29\u001b[0m     \u001b[0mjt\u001b[0m \u001b[1;33m=\u001b[0m \u001b[0ms\u001b[0m\u001b[1;33m.\u001b[0m\u001b[0mcreateJobTemplate\u001b[0m\u001b[1;33m(\u001b[0m\u001b[1;33m)\u001b[0m\u001b[1;33m\u001b[0m\u001b[0m\n",
      "\u001b[1;32m/root/anaconda3/envs/py27/lib/python2.7/site-packages/drmaa/session.pyc\u001b[0m in \u001b[0;36minitialize\u001b[1;34m(contactString)\u001b[0m\n\u001b[0;32m    255\u001b[0m         \u001b[0mSessionAlreadyActiveException\u001b[0m\u001b[1;33m.\u001b[0m\u001b[1;33m\u001b[0m\u001b[0m\n\u001b[0;32m    256\u001b[0m         \"\"\"\n\u001b[1;32m--> 257\u001b[1;33m         \u001b[0mpy_drmaa_init\u001b[0m\u001b[1;33m(\u001b[0m\u001b[0mcontactString\u001b[0m\u001b[1;33m)\u001b[0m\u001b[1;33m\u001b[0m\u001b[0m\n\u001b[0m\u001b[0;32m    258\u001b[0m \u001b[1;33m\u001b[0m\u001b[0m\n\u001b[0;32m    259\u001b[0m     \u001b[1;31m# no return value\u001b[0m\u001b[1;33m\u001b[0m\u001b[1;33m\u001b[0m\u001b[0m\n",
      "\u001b[1;32m/root/anaconda3/envs/py27/lib/python2.7/site-packages/drmaa/wrappers.pyc\u001b[0m in \u001b[0;36mpy_drmaa_init\u001b[1;34m(contact)\u001b[0m\n\u001b[0;32m     71\u001b[0m     \u001b[1;32mif\u001b[0m \u001b[0misinstance\u001b[0m\u001b[1;33m(\u001b[0m\u001b[0mcontact\u001b[0m\u001b[1;33m,\u001b[0m \u001b[0mstr\u001b[0m\u001b[1;33m)\u001b[0m\u001b[1;33m:\u001b[0m\u001b[1;33m\u001b[0m\u001b[0m\n\u001b[0;32m     72\u001b[0m         \u001b[0mcontact\u001b[0m \u001b[1;33m=\u001b[0m \u001b[0mcontact\u001b[0m\u001b[1;33m.\u001b[0m\u001b[0mencode\u001b[0m\u001b[1;33m(\u001b[0m\u001b[0mENCODING\u001b[0m\u001b[1;33m)\u001b[0m\u001b[1;33m\u001b[0m\u001b[0m\n\u001b[1;32m---> 73\u001b[1;33m     \u001b[1;32mreturn\u001b[0m \u001b[0m_lib\u001b[0m\u001b[1;33m.\u001b[0m\u001b[0mdrmaa_init\u001b[0m\u001b[1;33m(\u001b[0m\u001b[0mcontact\u001b[0m\u001b[1;33m,\u001b[0m \u001b[0merror_buffer\u001b[0m\u001b[1;33m,\u001b[0m \u001b[0msizeof\u001b[0m\u001b[1;33m(\u001b[0m\u001b[0merror_buffer\u001b[0m\u001b[1;33m)\u001b[0m\u001b[1;33m)\u001b[0m\u001b[1;33m\u001b[0m\u001b[0m\n\u001b[0m\u001b[0;32m     74\u001b[0m \u001b[1;33m\u001b[0m\u001b[0m\n\u001b[0;32m     75\u001b[0m \u001b[0m_lib\u001b[0m\u001b[1;33m.\u001b[0m\u001b[0mdrmaa_exit\u001b[0m\u001b[1;33m.\u001b[0m\u001b[0margtypes\u001b[0m \u001b[1;33m=\u001b[0m \u001b[1;33m[\u001b[0m\u001b[0mc_char_p\u001b[0m\u001b[1;33m,\u001b[0m \u001b[0mc_size_t\u001b[0m\u001b[1;33m]\u001b[0m\u001b[1;33m\u001b[0m\u001b[0m\n",
      "\u001b[1;32m/root/anaconda3/envs/py27/lib/python2.7/site-packages/drmaa/errors.pyc\u001b[0m in \u001b[0;36merror_check\u001b[1;34m(code)\u001b[0m\n\u001b[0;32m    149\u001b[0m         \u001b[0merror_string\u001b[0m \u001b[1;33m=\u001b[0m \u001b[1;34m\"code {0}: {1}\"\u001b[0m\u001b[1;33m.\u001b[0m\u001b[0mformat\u001b[0m\u001b[1;33m(\u001b[0m\u001b[0mcode\u001b[0m\u001b[1;33m,\u001b[0m \u001b[0merror_buffer\u001b[0m\u001b[1;33m.\u001b[0m\u001b[0mvalue\u001b[0m\u001b[1;33m.\u001b[0m\u001b[0mdecode\u001b[0m\u001b[1;33m(\u001b[0m\u001b[1;33m)\u001b[0m\u001b[1;33m)\u001b[0m\u001b[1;33m\u001b[0m\u001b[0m\n\u001b[0;32m    150\u001b[0m         \u001b[1;32mtry\u001b[0m\u001b[1;33m:\u001b[0m\u001b[1;33m\u001b[0m\u001b[0m\n\u001b[1;32m--> 151\u001b[1;33m             \u001b[1;32mraise\u001b[0m \u001b[0m_ERRORS\u001b[0m\u001b[1;33m[\u001b[0m\u001b[0mcode\u001b[0m \u001b[1;33m-\u001b[0m \u001b[1;36m1\u001b[0m\u001b[1;33m]\u001b[0m\u001b[1;33m(\u001b[0m\u001b[0merror_string\u001b[0m\u001b[1;33m)\u001b[0m\u001b[1;33m\u001b[0m\u001b[0m\n\u001b[0m\u001b[0;32m    152\u001b[0m         \u001b[1;32mexcept\u001b[0m \u001b[0mIndexError\u001b[0m\u001b[1;33m:\u001b[0m\u001b[1;33m\u001b[0m\u001b[0m\n\u001b[0;32m    153\u001b[0m             \u001b[1;32mraise\u001b[0m \u001b[0mDrmaaException\u001b[0m\u001b[1;33m(\u001b[0m\u001b[0merror_string\u001b[0m\u001b[1;33m)\u001b[0m\u001b[1;33m\u001b[0m\u001b[0m\n",
      "\u001b[1;31mAlreadyActiveSessionException\u001b[0m: code 11: Initialization failed due to existing DRMAA session."
     ]
    }
   ],
   "source": [
    "#Count Aligned Reads with HTseq-count\n",
    "run_htseq(sample, \"/data/results/flags/htseq_test4_completed.flag\")"
   ]
  },
  {
   "cell_type": "code",
   "execution_count": 24,
   "metadata": {
    "collapsed": false
   },
   "outputs": [
    {
     "name": "stdout",
     "output_type": "stream",
     "text": [
      "deque(['__no_feature\\t1887201\\n', '__ambiguous\\t940108\\n', '__too_low_aQual\\t0\\n', '__not_aligned\\t0\\n', '__alignment_not_unique\\t4239815\\n'], maxlen=5)\n"
     ]
    },
    {
     "ename": "PandasError",
     "evalue": "DataFrame constructor not properly called!",
     "output_type": "error",
     "traceback": [
      "\u001b[1;31m---------------------------------------------------------------------------\u001b[0m",
      "\u001b[1;31mPandasError\u001b[0m                               Traceback (most recent call last)",
      "\u001b[1;32m<ipython-input-24-eb999664abf5>\u001b[0m in \u001b[0;36m<module>\u001b[1;34m()\u001b[0m\n\u001b[0;32m      4\u001b[0m \u001b[0mx\u001b[0m \u001b[1;33m=\u001b[0m \u001b[0mdeque\u001b[0m\u001b[1;33m(\u001b[0m\u001b[0mopen\u001b[0m\u001b[1;33m(\u001b[0m\u001b[0mfname2\u001b[0m\u001b[1;33m)\u001b[0m\u001b[1;33m,\u001b[0m\u001b[1;36m5\u001b[0m\u001b[1;33m)\u001b[0m\u001b[1;33m\u001b[0m\u001b[0m\n\u001b[0;32m      5\u001b[0m \u001b[1;32mprint\u001b[0m \u001b[0mx\u001b[0m\u001b[1;33m\u001b[0m\u001b[0m\n\u001b[1;32m----> 6\u001b[1;33m \u001b[0mdf\u001b[0m \u001b[1;33m=\u001b[0m \u001b[0mpandas\u001b[0m\u001b[1;33m.\u001b[0m\u001b[0mDataFrame\u001b[0m\u001b[1;33m(\u001b[0m\u001b[0mx\u001b[0m\u001b[1;33m)\u001b[0m\u001b[1;33m\u001b[0m\u001b[0m\n\u001b[0m\u001b[0;32m      7\u001b[0m \u001b[1;32mprint\u001b[0m \u001b[0mdf\u001b[0m\u001b[1;33m\u001b[0m\u001b[0m\n",
      "\u001b[1;32m/root/anaconda3/envs/py27/lib/python2.7/site-packages/pandas/core/frame.py\u001b[0m in \u001b[0;36m__init__\u001b[1;34m(self, data, index, columns, dtype, copy)\u001b[0m\n\u001b[0;32m    303\u001b[0m                                          copy=False)\n\u001b[0;32m    304\u001b[0m             \u001b[1;32melse\u001b[0m\u001b[1;33m:\u001b[0m\u001b[1;33m\u001b[0m\u001b[0m\n\u001b[1;32m--> 305\u001b[1;33m                 \u001b[1;32mraise\u001b[0m \u001b[0mPandasError\u001b[0m\u001b[1;33m(\u001b[0m\u001b[1;34m'DataFrame constructor not properly called!'\u001b[0m\u001b[1;33m)\u001b[0m\u001b[1;33m\u001b[0m\u001b[0m\n\u001b[0m\u001b[0;32m    306\u001b[0m \u001b[1;33m\u001b[0m\u001b[0m\n\u001b[0;32m    307\u001b[0m         \u001b[0mNDFrame\u001b[0m\u001b[1;33m.\u001b[0m\u001b[0m__init__\u001b[0m\u001b[1;33m(\u001b[0m\u001b[0mself\u001b[0m\u001b[1;33m,\u001b[0m \u001b[0mmgr\u001b[0m\u001b[1;33m,\u001b[0m \u001b[0mfastpath\u001b[0m\u001b[1;33m=\u001b[0m\u001b[0mTrue\u001b[0m\u001b[1;33m)\u001b[0m\u001b[1;33m\u001b[0m\u001b[0m\n",
      "\u001b[1;31mPandasError\u001b[0m: DataFrame constructor not properly called!"
     ]
    }
   ],
   "source": [
    "#View HTseq Results Summary\n",
    "fname2 = \"/data/results/counts/test4/SD06_counts.txt\"\n",
    "from collections import deque\n",
    "x = deque(open(fname2),5)\n",
    "print x\n",
    "df = pandas.DataFrame(x)\n",
    "print df"
   ]
  },
  {
   "cell_type": "code",
   "execution_count": 35,
   "metadata": {
    "collapsed": false
   },
   "outputs": [
    {
     "data": {
      "text/html": [
       "<div>\n",
       "<table border=\"1\" class=\"dataframe\">\n",
       "  <thead>\n",
       "    <tr style=\"text-align: right;\">\n",
       "      <th></th>\n",
       "      <th>ENSG00000000003.10</th>\n",
       "      <th>1005</th>\n",
       "    </tr>\n",
       "  </thead>\n",
       "  <tbody>\n",
       "    <tr>\n",
       "      <th>57818</th>\n",
       "      <td>ENSGR0000270726.1</td>\n",
       "      <td>0</td>\n",
       "    </tr>\n",
       "    <tr>\n",
       "      <th>57819</th>\n",
       "      <td>__no_feature</td>\n",
       "      <td>1887201</td>\n",
       "    </tr>\n",
       "    <tr>\n",
       "      <th>57820</th>\n",
       "      <td>__ambiguous</td>\n",
       "      <td>940108</td>\n",
       "    </tr>\n",
       "    <tr>\n",
       "      <th>57821</th>\n",
       "      <td>__too_low_aQual</td>\n",
       "      <td>0</td>\n",
       "    </tr>\n",
       "    <tr>\n",
       "      <th>57822</th>\n",
       "      <td>__not_aligned</td>\n",
       "      <td>0</td>\n",
       "    </tr>\n",
       "    <tr>\n",
       "      <th>57823</th>\n",
       "      <td>__alignment_not_unique</td>\n",
       "      <td>4239815</td>\n",
       "    </tr>\n",
       "  </tbody>\n",
       "</table>\n",
       "</div>"
      ],
      "text/plain": [
       "           ENSG00000000003.10     1005\n",
       "57818       ENSGR0000270726.1        0\n",
       "57819            __no_feature  1887201\n",
       "57820             __ambiguous   940108\n",
       "57821         __too_low_aQual        0\n",
       "57822           __not_aligned        0\n",
       "57823  __alignment_not_unique  4239815"
      ]
     },
     "execution_count": 35,
     "metadata": {},
     "output_type": "execute_result"
    }
   ],
   "source": [
    "fname2 = \"/data/results/counts/test4/SD06_counts.txt\"\n",
    "df = pandas.read_table(fname2)\n",
    "df.tail(n=5)"
   ]
  },
  {
   "cell_type": "code",
   "execution_count": 41,
   "metadata": {
    "collapsed": false
   },
   "outputs": [
    {
     "name": "stdout",
     "output_type": "stream",
     "text": [
      "28799101\n"
     ]
    }
   ],
   "source": [
    "df2=df[:-5]\n",
    "num_aligned_quant = df2.sum()\n",
    "print \"Number of Reads Aligned to Genes: \" + str(num_aligned_quant[1])"
   ]
  },
  {
   "cell_type": "code",
   "execution_count": 43,
   "metadata": {
    "collapsed": false
   },
   "outputs": [
    {
     "name": "stdout",
     "output_type": "stream",
     "text": [
      "Number of Reads Aligned to Genes: 28799101\n"
     ]
    }
   ],
   "source": []
  },
  {
   "cell_type": "code",
   "execution_count": null,
   "metadata": {
    "collapsed": true
   },
   "outputs": [],
   "source": []
  }
 ],
 "metadata": {
  "kernelspec": {
   "display_name": "Python 2",
   "language": "python",
   "name": "python2"
  },
  "language_info": {
   "codemirror_mode": {
    "name": "ipython",
    "version": 2
   },
   "file_extension": ".py",
   "mimetype": "text/x-python",
   "name": "python",
   "nbconvert_exporter": "python",
   "pygments_lexer": "ipython2",
   "version": "2.7.11"
  }
 },
 "nbformat": 4,
 "nbformat_minor": 0
}
