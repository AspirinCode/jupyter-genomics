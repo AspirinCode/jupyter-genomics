{
 "cells": [
  {
   "cell_type": "markdown",
   "metadata": {},
   "source": [
    "# GSEApy Implementation"
   ]
  },
  {
   "cell_type": "markdown",
   "metadata": {},
   "source": [
    "## Authors: N. Mouchamel & K. Fisch\n",
    "## Email: Kfisch@ucsd.edu\n",
    "## Date: July 2016"
   ]
  },
  {
   "cell_type": "markdown",
   "metadata": {},
   "source": [
    "Goal: Create Jupyter notebook cell that runs an enrichment analysis with GSEApy\n",
    "\n",
    "Steps: \n",
    " 1. Import gene list from differential expression analysis\n",
    " \n",
    " 2. Implement GSEApy (http://software.broadinstitute.org/gsea/index.jsp ;  http://pythonhosted.org/gseapy/index.html)\n",
    " \n",
    " 3. Display significant GSEA results and graphs. \n"
   ]
  },
  {
   "cell_type": "code",
   "execution_count": null,
   "metadata": {
    "collapsed": false,
    "scrolled": true
   },
   "outputs": [],
   "source": [
    "##importing python module\n",
    "import os\n",
    "import pandas\n",
    "import numpy\n",
    "import gseapy\n",
    "import mygene\n",
    "import ipywidgets\n",
    "import qgrid\n",
    "import urllib2\n",
    "\n",
    "qgrid.nbinstall(overwrite=True)\n",
    "qgrid.set_defaults(remote_js=True, precision=4)\n",
    "\n",
    "from IPython.display import IFrame\n",
    "import matplotlib.image as mpimg\n",
    "import matplotlib.pyplot as plt\n",
    "%matplotlib inline\n",
    "\n",
    "##change directory\n",
    "os.chdir(\"/Users/nicole/Documents/CCBB Internship\")\n"
   ]
  },
  {
   "cell_type": "markdown",
   "metadata": {},
   "source": [
    "## Read in differential expression results as a Pandas data frame to get differentially expressed gene list\n"
   ]
  },
  {
   "cell_type": "code",
   "execution_count": null,
   "metadata": {
    "code_folding": [],
    "collapsed": false,
    "run_control": {
     "marked": false
    }
   },
   "outputs": [],
   "source": [
    "##read in DESeq2 results\n",
    "genes=pandas.read_csv(\"/Users/nicole/Documents/CCBB Internship/DE_genes.csv\")\n",
    "\n",
    "##View interactive table\n",
    "#qgrid.show_grid(genes.sample(1000), grid_options={'forceFitColumns': False, 'defaultColumnWidth': 100})\n",
    "\n",
    "#View top of file\n",
    "genes.head(10)"
   ]
  },
  {
   "cell_type": "code",
   "execution_count": null,
   "metadata": {
    "collapsed": false,
    "run_control": {
     "marked": true
    }
   },
   "outputs": [],
   "source": [
    "#Extract genes that are differentially expressed with a pvalue less than a certain cutoff (pvalue < 0.05 or padj < 0.05)\n",
    "genes_DE_only = genes.loc[(genes.padj < 0.05)]\n",
    "\n",
    "#View top of file\n",
    "genes_DE_only.head(10)"
   ]
  },
  {
   "cell_type": "code",
   "execution_count": null,
   "metadata": {
    "collapsed": false
   },
   "outputs": [],
   "source": [
    "#Check how many rows in original genes file\n",
    "len(genes)"
   ]
  },
  {
   "cell_type": "code",
   "execution_count": null,
   "metadata": {
    "collapsed": false
   },
   "outputs": [],
   "source": [
    "#Check how many rows in DE genes file\n",
    "len(genes_DE_only)"
   ]
  },
  {
   "cell_type": "markdown",
   "metadata": {},
   "source": [
    "## Translate Ensembl IDs to Gene Symbols and Entrez IDs using mygene.info API"
   ]
  },
  {
   "cell_type": "code",
   "execution_count": null,
   "metadata": {
    "code_folding": [],
    "collapsed": false,
    "run_control": {
     "marked": false
    }
   },
   "outputs": [],
   "source": [
    "#Extract list of DE genes  (Check to make sure this code works, this was adapted from a different notebook)\n",
    "de_list = genes_DE_only[genes_DE_only.columns[0]]\n",
    "\n",
    "#Remove .* from end of Ensembl ID\n",
    "de_list2 = de_list.replace(\"\\.\\d\",\"\",regex=True)\n",
    "\n",
    "#Add new column with reformatted Ensembl IDs\n",
    "genes_DE_only[\"Full_Ensembl\"] = de_list2\n",
    "\n",
    "#View top of file \n",
    "genes_DE_only.head(10)"
   ]
  },
  {
   "cell_type": "code",
   "execution_count": null,
   "metadata": {
    "collapsed": false
   },
   "outputs": [],
   "source": [
    "#Set up mygene.info API and query\n",
    "mg = mygene.MyGeneInfo()\n",
    "gene_ids = mg.getgenes(de_list2, 'name, symbol, entrezgene', as_dataframe=True)\n",
    "gene_ids.index.name = \"Ensembl\"\n",
    "gene_ids.reset_index(inplace=True)\n",
    "\n",
    "#View top of file\n",
    "gene_ids.head(10)"
   ]
  },
  {
   "cell_type": "code",
   "execution_count": null,
   "metadata": {
    "collapsed": false
   },
   "outputs": [],
   "source": [
    "#Merge mygene.info query results with original DE genes list\n",
    "DE_with_ids = genes_DE_only.merge(gene_ids, left_on=\"Full_Ensembl\", right_on=\"Ensembl\")\n",
    "\n",
    "#Check top of file\n",
    "DE_with_ids.head(10)"
   ]
  },
  {
   "cell_type": "code",
   "execution_count": null,
   "metadata": {
    "collapsed": false
   },
   "outputs": [],
   "source": [
    "#Write results to file\n",
    "DE_with_ids.to_csv(\"./DE_genes_converted.csv\")"
   ]
  },
  {
   "cell_type": "code",
   "execution_count": null,
   "metadata": {
    "collapsed": false
   },
   "outputs": [],
   "source": [
    "#Convert to .txt file\n",
    "DE_with_ids.to_csv(\"./DE_genes_converted.txt\", sep='\\t')"
   ]
  },
  {
   "cell_type": "code",
   "execution_count": null,
   "metadata": {
    "collapsed": false
   },
   "outputs": [],
   "source": [
    "#Generate rank file (symbol, padj)\n",
    "cols = DE_with_ids.columns.tolist()\n",
    "cols.insert(0, cols.pop(cols.index('symbol')))\n",
    "cols.insert(1, cols.pop(cols.index('log2FoldChange')))\n",
    "\n",
    "prerank_file = DE_with_ids.reindex(columns= cols)\n",
    "\n",
    "#Condense dataframe to contain only symbol & log2FoldChange\n",
    "prerank_file.drop(prerank_file.columns[[2, 3, 4, 5, 6, 7, 8, 9, 10, 11,12,13]], axis=1, inplace=True) \n",
    "\n",
    "#Exclude NaN values\n",
    "prerank_file.dropna(axis=0, how='any', thresh=None, subset=None, inplace=True)\n",
    "\n",
    "#Change column titles\n",
    "prerank_file.columns = ['gene_name', 'rank']\n",
    "\n",
    "prerank_file[['rank']] = prerank_file[['rank']].astype(float)\n",
    "\n",
    "prerank_file.head(10)"
   ]
  },
  {
   "cell_type": "code",
   "execution_count": null,
   "metadata": {
    "collapsed": false
   },
   "outputs": [],
   "source": [
    "#Display data types\n",
    "prerank_file.dtypes"
   ]
  },
  {
   "cell_type": "code",
   "execution_count": null,
   "metadata": {
    "collapsed": false
   },
   "outputs": [],
   "source": [
    "#Write results to file\n",
    "prerank_file.to_csv(\"./prerank_file.csv\", index=False)\n",
    "\n",
    "#Remove header and separate by tab (.rnk format)\n",
    "prerank_file.to_csv(\"./prerank_file.rnk\", sep='\\t', index=False, float_format='%.25f', header=False)"
   ]
  },
  {
   "cell_type": "code",
   "execution_count": null,
   "metadata": {
    "collapsed": false,
    "scrolled": true
   },
   "outputs": [],
   "source": [
    "#Open .rnk file\n",
    "pr = pandas.read_csv(\"/Users/nicole/Documents/CCBB Internship/prerank_file.rnk\", sep='\\t')"
   ]
  },
  {
   "cell_type": "code",
   "execution_count": null,
   "metadata": {
    "collapsed": false
   },
   "outputs": [],
   "source": [
    "#gmt = pandas.read_csv(\"/Users/nicole/Documents/CCBB Internship/msigdb.v5.1.symbols.gmt-2.txt\", sep = ' ')\n",
    "#gmt.to_csv(\"/Users/nicole/Documents/CCBB Internship/msigdb.v5.1.symbols.gmt\", sep = ' ')"
   ]
  },
  {
   "cell_type": "markdown",
   "metadata": {
    "collapsed": true
   },
   "source": [
    "# Implement GSEAPY "
   ]
  },
  {
   "cell_type": "markdown",
   "metadata": {},
   "source": [
    "https://pypi.python.org/pypi/gseapy\n",
    "    \n",
    "http://pythonhosted.org/gseapy/index.html"
   ]
  },
  {
   "cell_type": "code",
   "execution_count": null,
   "metadata": {
    "code_folding": [],
    "collapsed": false,
    "run_control": {
     "marked": false
    },
    "scrolled": true
   },
   "outputs": [],
   "source": [
    "#GSEApy prerank method to calculate es, nes, pval,fdrs, and produce figures\n",
    "pr_results = gseapy.prerank(rnk = \"/Users/nicole/Documents/CCBB Internship/prerank_file.rnk\", \n",
    "                         gene_sets = \"/Users/nicole/Documents/CCBB Internship/msigdb.v5.1.symbols.gmt\", \n",
    "                            outdir='/Users/nicole/ccbb_internal/interns/Nicole/gseapy_output', \n",
    "                            permutation_n=1000, graph_num = 539, format = 'png')"
   ]
  },
  {
   "cell_type": "code",
   "execution_count": null,
   "metadata": {
    "collapsed": false,
    "scrolled": false
   },
   "outputs": [],
   "source": [
    "#Display GSEApy report\n",
    "pr = pandas.read_csv(\"/Users/nicole/ccbb_internal/interns/Nicole/gseapy_output/gseapy_reports.csv\")\n",
    "\n",
    "#View interactive table\n",
    "#qgrid.show_grid(pr, grid_options={'forceFitColumns': False, 'defaultColumnWidth': 100})\n",
    "\n",
    "pr.head(15)"
   ]
  },
  {
   "cell_type": "code",
   "execution_count": null,
   "metadata": {
    "collapsed": false,
    "scrolled": false
   },
   "outputs": [],
   "source": [
    "#for loop that iterates through the top 10 enrich_terms and displays the plot\n",
    "gseapyres = pandas.read_csv(\"/Users/nicole/ccbb_internal/interns/Nicole/gseapy_output/gseapy_reports.csv\")\n",
    "gseapyres = gseapyres.head(15)\n",
    "\n",
    "for i in gseapyres.ix[:,0]:\n",
    "    \n",
    "    image = i\n",
    "    address = \"/Users/nicole/ccbb_internal/interns/Nicole/gseapy_output/%s.png\" % image\n",
    "    \n",
    "    img = mpimg.imread(address)\n",
    "    plt.imshow(img)\n",
    "    plt.gcf().set_size_inches(10,10)\n",
    "    plt.show()\n",
    "    \n",
    "    i = i.split(\" \")[1].strip()\n",
    "    geneset = i \n",
    "    print \"more info about \" + geneset + \" available here:\"\n",
    "    print 'http://www.broadinstitute.org/gsea/msigdb/cards/%s' % geneset\n",
    "    print ' '\n",
    "    \n",
    "    \n",
    "#IFrame('http://www.broadinstitute.org/gsea/msigdb/cards/%s' % geneset, width=900, height=900)"
   ]
  },
  {
   "cell_type": "code",
   "execution_count": null,
   "metadata": {
    "collapsed": true
   },
   "outputs": [],
   "source": []
  }
 ],
 "metadata": {
  "anaconda-cloud": {},
  "kernelspec": {
   "display_name": "Python 2",
   "language": "python",
   "name": "python2"
  },
  "language_info": {
   "codemirror_mode": {
    "name": "ipython",
    "version": 2
   },
   "file_extension": ".py",
   "mimetype": "text/x-python",
   "name": "python",
   "nbconvert_exporter": "python",
   "pygments_lexer": "ipython2",
   "version": "2.7.11"
  }
 },
 "nbformat": 4,
 "nbformat_minor": 0
}
