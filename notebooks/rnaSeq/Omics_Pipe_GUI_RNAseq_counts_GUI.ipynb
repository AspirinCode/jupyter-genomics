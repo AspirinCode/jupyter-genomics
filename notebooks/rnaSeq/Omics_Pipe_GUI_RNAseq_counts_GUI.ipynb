{
 "cells": [
  {
   "cell_type": "markdown",
   "metadata": {},
   "source": [
    "# Omics Pipe GUI -- RNAseq_Count_Based Pipeline"
   ]
  },
  {
   "cell_type": "markdown",
   "metadata": {},
   "source": [
    "Author: K. Fisch\n",
    "Email: Kfisch@ucsd.edu\n",
    "Date: May 2016"
   ]
  },
  {
   "cell_type": "markdown",
   "metadata": {},
   "source": [
    "#### Note: Before editing this notebook, please make a copy (File --> Make a copy)."
   ]
  },
  {
   "cell_type": "markdown",
   "metadata": {
    "collapsed": true
   },
   "source": [
    "## Table of Contents\n",
    "\n",
    "<a id = \"toc\"></a>\n",
    "1. <a href = \"#intro\">Introduction</a>\n",
    "    * <a href = \"#config\">Configuration</a>\n",
    "    * <a href = \"#params\">Parameters</a>\n",
    "    * <a href = \"#input\">User Input Required </a>\n",
    "2. <a href = \"#pipeline\">Omics Pipe RNAseq Count-based Pipeline</a>\n",
    "3. <a href = \"#results\">Omics Pipe Results</a>\n",
    "    * <a href = \"#qc\">Raw Data Quality Control (FastQC)</a>\n",
    "    * <a href = \"#alignment\">Alignment (STAR)</a>\n",
    "    * <a href = \"#counts\">Quantification (HTSeq)</a>\n",
    "    * <a href = \"#deseq\">Differential Expression Analysis (DEseq2)</a>\n",
    "4. <a href = \"#enrichment\">Functional Enrichment Analysis</a>\n",
    "5. <a href = \"#network\">Network Analysis</a>"
   ]
  },
  {
   "cell_type": "markdown",
   "metadata": {},
   "source": [
    "<a id = \"intro\"></a>\n",
    "## Introduction\n",
    "\n",
    "Omics pipe is an open-source, modular computational platform that automates ‘best practice’ multi-omics data analysis pipelines.  \n",
    "This Jupyter notebook wraps the functionality of Omics Pipe into an easy-to-use interactive Jupyter notebook and parses\n",
    "the output for genomic interpretation. Read more about Omics Pipe at https://pythonhosted.org/omics_pipe/."
   ]
  },
  {
   "cell_type": "code",
   "execution_count": null,
   "metadata": {
    "code_folding": [
     0
    ],
    "collapsed": false
   },
   "outputs": [],
   "source": [
    "#Omics Pipe Overview\n",
    "from IPython.display import Image\n",
    "Image(filename='/data/core_analysis_pipelines/RNAseq/Omics_Pipe_RNAseq_count_based_pipeline/images/op_diagram.png', width=500, height=100)"
   ]
  },
  {
   "cell_type": "markdown",
   "metadata": {
    "collapsed": true
   },
   "source": [
    "<a id = \"config\"></a>\n",
    "### Set up your Jupyter notebook to enable nbextensions and import Python modules needed"
   ]
  },
  {
   "cell_type": "code",
   "execution_count": null,
   "metadata": {
    "code_folding": [
     0
    ],
    "collapsed": true
   },
   "outputs": [],
   "source": [
    "#Activate Jupyter Notebook Extensions\n",
    "import notebook\n",
    "E = notebook.nbextensions.EnableNBExtensionApp()\n",
    "E.enable_nbextension('usability/codefolding/main')\n",
    "E.enable_nbextension('usability/comment-uncomment/main')\n",
    "E.enable_nbextension('usability/datestamper/main')\n",
    "E.enable_nbextension('usability/dragdrop/main')\n",
    "E.enable_nbextension('usability/hide_input/main')\n",
    "#E.enable_nbextension('usability/read-only/main')\n",
    "E.enable_nbextension('usability/runtools/main')\n",
    "E.enable_nbextension('usability/search-replace/main')\n",
    "E.enable_nbextension('usability/toc/main')\n",
    "\n",
    "#disable extension\n",
    "#D = notebook.nbextensions.DisableNBExtensionApp()\n",
    "#D.disable_nbextension('usability/codefolding/main')"
   ]
  },
  {
   "cell_type": "code",
   "execution_count": null,
   "metadata": {
    "code_folding": [
     0
    ],
    "collapsed": false,
    "run_control": {
     "marked": false
    }
   },
   "outputs": [],
   "source": [
    "#Import Omics pipe and module dependencies\n",
    "import yaml\n",
    "from omics_pipe.parameters.default_parameters import default_parameters \n",
    "from ruffus import *\n",
    "import sys \n",
    "import os\n",
    "import time\n",
    "import datetime \n",
    "import drmaa\n",
    "import csv\n",
    "from omics_pipe.utils import *\n",
    "from IPython.display import IFrame\n",
    "import pandas\n",
    "import glob\n",
    "import os\n",
    "import matplotlib.pyplot as plt\n",
    "%matplotlib inline\n",
    "#%matplotlib notebook\n",
    "import qgrid\n",
    "qgrid.nbinstall(overwrite=True)\n",
    "qgrid.set_defaults(remote_js=True, precision=4)\n",
    "from IPython.display import HTML\n",
    "import mygene\n",
    "now = datetime.datetime.now()\n",
    "date = now.strftime(\"%Y-%m-%d %H:%M\")"
   ]
  },
  {
   "cell_type": "code",
   "execution_count": null,
   "metadata": {
    "code_folding": [
     0
    ],
    "collapsed": false
   },
   "outputs": [],
   "source": [
    "#Change top directory to locate result files\n",
    "os.chdir(\"/data/core_analysis_pipelines/RNAseq/Omics_Pipe_RNAseq_count_based_pipeline\")"
   ]
  },
  {
   "cell_type": "markdown",
   "metadata": {},
   "source": [
    "<a id = \"params\"></a>\n",
    "### Customize input parameters for Omics Pipe\n",
    "\n",
    "Required: Sample names, condition for each sample\n",
    "\n",
    "Optional: genome build, gene annotation, output paths, tool parameters, etc. \n",
    "\n",
    "See full Omics Pipe documentation for a description of the configurable parameters. "
   ]
  },
  {
   "cell_type": "code",
   "execution_count": null,
   "metadata": {
    "code_folding": [
     0
    ],
    "collapsed": false
   },
   "outputs": [],
   "source": [
    "#Omics Pipe documentation: Parameters\n",
    "IFrame(\"https://pythonhosted.org/omics_pipe/parameter_file.html\", width=700, height=250)"
   ]
  },
  {
   "cell_type": "markdown",
   "metadata": {},
   "source": [
    "<a id = \"input\"></a>\n",
    "## ***User Input Required Here ***"
   ]
  },
  {
   "cell_type": "code",
   "execution_count": null,
   "metadata": {
    "code_folding": [
     0
    ],
    "collapsed": false
   },
   "outputs": [],
   "source": [
    "###Customize parameters: Specify sample names and conditions\n",
    "sample_names = [\"468-3_CTRL-2\",\"468-3_LPS-2\",\"468-4_CTRL\",\"468-4_LPS\",\"468-6_CTRL\",\"468-6_LPS\",\"685-1_CTRL\",\"685-1_LPS\",\"685-2_CTRL-3\",\"685-2_LPS-2\",\"685-5_CTRL-3\",\"685-5_LPS-1\",\"685-7_CTRL-3\",\"685-7_LPS-2\",\"697-1_CTRL-3\",\"697-1_LPS-1\",\"697-2_CTRL\",\"697-2_LPS\",\"697-3_CTRL-3\",\"697-3_LPS-2\",\"697-4_CTRL-2\",\"697-4_LPS-2\",\"697-5_CTRL\",\"697-5_LPS\"]\n",
    "condition = [\"Control\",\"LPS\",\"Control\",\"LPS\",\"Control\",\"LPS\",\"Control\",\"LPS\",\"Control\",\"LPS\",\"Control\",\"LPS\",\"Control\",\"LPS\",\"Control\",\"LPS\",\"Control\",\"LPS\",\"Control\",\"LPS\",\"Control\",\"LPS\",\"Control\",\"LPS\"]\n",
    "lib_type = [\"single_end\"]*len(condition)\n",
    "pair = [\"468-3\",\"468-3\",\"468-4\",\"468-4\",\"468-6\",\"468-6\",\"685-1\",\"685-1\",\"685-2\",\"685-2\",\"685-5\",\"685-5\",\"685-7\",\"685-7\",\"697-1\",\"697-1\",\"697-2\",\"697-2\",\"697-3\",\"697-3\",\"697-4\",\"697-4\",\"697-5\",\"697-5\"]\n",
    "genotype = [\"het\",\"het\",\"wt\",\"wt\",\"mut\",\"mut\",\"mut\",\"mut\",\"wt\",\"wt\",\"het\",\"het\",\"het\",\"het\",\"wt\",\"wt\",\"mut\",\"mut\",\"wt\",\"wt\",\"het\",\"het\",\"mut\",\"mut\"]"
   ]
  },
  {
   "cell_type": "code",
   "execution_count": null,
   "metadata": {
    "code_folding": [
     0
    ],
    "collapsed": false
   },
   "outputs": [],
   "source": [
    "#Update Metadata File\n",
    "meta = {'Sample': pandas.Series(sample_names), 'condition': pandas.Series(condition) , 'libType': pandas.Series(lib_type), \n",
    "        'pair': pandas.Series(pair), 'genotype': pandas.Series(genotype)}\n",
    "meta_df = pandas.DataFrame(data = meta)\n",
    "deseq_meta_new = \"/data/mccoy/new_meta.csv\"\n",
    "meta_df.to_csv(deseq_meta_new,index=False)\n",
    "print meta_df"
   ]
  },
  {
   "cell_type": "code",
   "execution_count": null,
   "metadata": {
    "code_folding": [
     0
    ],
    "collapsed": false
   },
   "outputs": [],
   "source": [
    "###Update parameters, such as GENOME, GTF_FILE, paths, etc\n",
    "parameters = \"/root/src/omics-pipe/tests/test_params_RNAseq_counts_AWS.yaml\"\n",
    "stream = file(parameters, 'r')\n",
    "params = yaml.load(stream)\n",
    "params.update({\"SAMPLE_LIST\": sample_names})\n",
    "params.update({\"DESEQ_META\": deseq_meta_new})\n",
    "params.update({\"R_VERSION\": '3.2.3'})\n",
    "params.update({\"GENOME\": '/database/Mus_musculus/Mus_musculus/UCSC/mm10/Sequence/WholeGenomeFasta/genome.fa'})\n",
    "params.update({\"STAR_INDEX\": '/database/Mus_musculus/Mus_musculus/STAR_index'})\n",
    "params.update({\"REF_GENES\": '/database/Mus_musculus/Mus_musculus/UCSC/mm10/Annotation/Genes/genes.gtf'})\n",
    "params.update({\"RAW_DATA_DIR\": '/data/mccoy/fastq'})\n",
    "params.update({\"TEMP_DIR\": '/data/tmp'})\n",
    "params.update({\"PIPE_MULTIPROCESS\": 100})\n",
    "params.update({\"STAR_VERSION\": '2.4.5a'})\n",
    "params.update({\"PARAMS_FILE\": '/data/mccoy/Omics_Pipe_RNAseq_params.yaml'})\n",
    "params.update({\"LOG_PATH\": ':/data/mccoy/logs'})\n",
    "params.update({\"QC_PATH\": \"/data/mccoy/QC\"})\n",
    "params.update({\"FLAG_PATH\": \"/data/mccoy/flags\"})\n",
    "params.update({\"DESEQ_RESULTS\": \"/data/mccoy/deseq\"})\n",
    "params.update({\"STAR_OPTIONS\": '--readFilesCommand cat --runThreadN 8 --outSAMstrandField intronMotif --outFilterIntronMotifs RemoveNoncanonical'})\n",
    "params.update({\"REPORT_RESULTS\": \"/data/mccoy/report\"})\n",
    "params.update({\"STAR_RESULTS\": \"/data/mccoy/star\"})\n",
    "params.update({\"HTSEQ_RESULTS\": \"/data/mccoy/counts\"})\n",
    "params.update({\"DESIGN\": '~condition'})\n",
    "\n",
    "\n",
    "\n",
    "#update params\n",
    "default_parameters.update(params)\n",
    "\n",
    "#write yaml file\n",
    "stream = file('updated_params.yaml', 'w')\n",
    "yaml.dump(params,stream)\n",
    "p = Bunch(default_parameters)\n",
    "#View Parameters\n",
    "print \"Run Parameters: \\n\" + str(params)"
   ]
  },
  {
   "cell_type": "markdown",
   "metadata": {},
   "source": [
    "<a id = \"pipeline\"></a>\n",
    "## Omics Pipe RNAseq Count-based Pipeline\n",
    "\n",
    "The following commands execute the Omics Pipe RNAseq Count-based Pipeline which is based on the Nature Methods paper Anders et al. 2013."
   ]
  },
  {
   "cell_type": "code",
   "execution_count": null,
   "metadata": {
    "code_folding": [
     0
    ],
    "collapsed": false
   },
   "outputs": [],
   "source": [
    "### Omics Pipe Pipelines\n",
    "from IPython.display import Image\n",
    "Image(filename='/data/core_analysis_pipelines/RNAseq/Omics_Pipe_RNAseq_count_based_pipeline/images/op_pipelines.png', width=700, height=150)"
   ]
  },
  {
   "cell_type": "code",
   "execution_count": null,
   "metadata": {
    "collapsed": false
   },
   "outputs": [],
   "source": [
    "###Run Omics Pipe from the command line\n",
    "!omics_pipe RNAseq_count_based /data/mccoy/updated_params.yaml"
   ]
  },
  {
   "cell_type": "markdown",
   "metadata": {},
   "source": [
    "<a id = \"results\"></a>\n",
    "## Omics Pipe Results\n",
    "\n",
    "Omics Pipe produces output files for each of the steps in the pipeline, as well as log files and run information (for reproducibility). \n",
    "Summarized output for each of the steps is displayed below for biological interpretation. "
   ]
  },
  {
   "cell_type": "code",
   "execution_count": null,
   "metadata": {
    "code_folding": [
     0
    ],
    "collapsed": false
   },
   "outputs": [],
   "source": [
    "#Change top directory to locate result files\n",
    "os.chdir(\"/data/mccoy\")"
   ]
  },
  {
   "cell_type": "code",
   "execution_count": null,
   "metadata": {
    "code_folding": [
     0
    ],
    "collapsed": false,
    "run_control": {
     "marked": false
    },
    "scrolled": true
   },
   "outputs": [],
   "source": [
    "#Display Omics Pipe Pipeline Run Status\n",
    "#pipeline = './flags/pipeline_combined_%s.pdf' % date\n",
    "pipeline = './flags/pipeline_combined_2016-05-16 17:41.pdf'\n",
    "IFrame(pipeline, width=700, height=500)"
   ]
  },
  {
   "cell_type": "markdown",
   "metadata": {},
   "source": [
    "<a id = \"qc\"></a>\n",
    "### Quality Control of Raw Data -- FastQC\n",
    "\n",
    "Quality control of the raw data (fastq files) was assessed using the tool FastQC (http://www.bioinformatics.babraham.ac.uk/projects/fastqc/). \n",
    "The results for all samples are summarized below, and samples are given a PASS/FAIL rating. "
   ]
  },
  {
   "cell_type": "code",
   "execution_count": null,
   "metadata": {
    "code_folding": [
     0
    ],
    "collapsed": false,
    "run_control": {
     "marked": false
    }
   },
   "outputs": [],
   "source": [
    "###Summarize FastQC raw data QC results per sample\n",
    "results_dir = './QC/'\n",
    "# Below is the complete list of labels in the summary file\n",
    "summary_labels = [\"Basic Statistics\", \"Per base sequence quality\", \"Per tile sequence quality\", \n",
    "                  \"Per sequence quality scores\", \"Per base sequence content\", \"Per sequence GC content\", \n",
    "                  \"Per base N content\", \"Sequence Length Distribution\", \"Sequence Duplication Levels\", \n",
    "                  \"Overrepresented sequences\", \"Adapter Content\", \"Kmer Content\"]\n",
    "\n",
    "# Below is the list I anticipate caring about; I leave the full list above in case it turns out later\n",
    "# I anticipated wrong and need to update this one.\n",
    "labels_of_interest = [\"Basic Statistics\", \"Per base sequence quality\"]\n",
    "\n",
    "# Look for each file named summary.txt in each subdirectory named *_fastqc in the results directory\n",
    "summary_wildpath = os.path.join(results_dir, '*/*_fastqc', \"summary.txt\")\n",
    "summary_filepaths = [x for x in glob.glob(summary_wildpath)]\n",
    "#print os.getcwd()\n",
    "# Examine each of these files to find lines starting with \"FAIL\" or \"WARN\"\n",
    "for curr_summary_path in summary_filepaths:\n",
    "    has_error = False\n",
    "    #print(divider)    \n",
    "    with open(curr_summary_path, 'r') as f:\n",
    "        for line in f:\n",
    "            if line.startswith(\"FAIL\") or line.startswith(\"WARN\"):\n",
    "                fields = line.split(\"\\t\")\n",
    "                if not has_error:\n",
    "                    print(fields[2].strip() + \": PASS\") # the file name\n",
    "                    has_error = True                    \n",
    "                if fields[1] in labels_of_interest:\n",
    "                    print(fields[0] + \"\\t\" + fields[1])"
   ]
  },
  {
   "cell_type": "code",
   "execution_count": null,
   "metadata": {
    "code_folding": [
     0
    ],
    "collapsed": false
   },
   "outputs": [],
   "source": [
    "#Display QC results for individual samples\n",
    "sample = \"468-3_CTRL-2\"\n",
    "name = './QC/%s/%s_fastqc/fastqc_report.html' % (sample,sample)\n",
    "IFrame(name, width=1000, height=600)"
   ]
  },
  {
   "cell_type": "markdown",
   "metadata": {},
   "source": [
    "<a id = \"alignment\"></a>\n",
    "### Alignment Summary Statistics -- STAR\n",
    "\n",
    "The samples were aligned to the genome with the STAR aligner (https://github.com/alexdobin/STAR). \n",
    "The alignment statistics for all samples are summarized and displayed below. Samples that do not pass the alignment quality filter \n",
    "(Good quality = # aligned reads > 10 million and % aligned > 60%) are excluded from downstream analyses. "
   ]
  },
  {
   "cell_type": "code",
   "execution_count": null,
   "metadata": {
    "code_folding": [
     0
    ],
    "collapsed": false,
    "scrolled": true
   },
   "outputs": [],
   "source": [
    "##Summarize Alignment QC Statistics\n",
    "import sys\n",
    "from io import StringIO\n",
    "star_dir = './star/'\n",
    "# Look for each file named summary.txt in each subdirectory named *_fastqc in the results directory\n",
    "summary_wildpath = os.path.join(star_dir, '*/', \"Log.final.out\")\n",
    "#summary_wildpath = os.path.join(star_dir, \"*Log.final.out\")\n",
    "summary_filepaths = [x for x in glob.glob(summary_wildpath)]\n",
    "#print summary_filepaths\n",
    "\n",
    "alignment_stats = pandas.DataFrame()\n",
    "for curr_summary_path in summary_filepaths:    \n",
    "    #with open(curr_summary_path, 'r') as f:\n",
    "    filename = curr_summary_path.replace(\"./star/\",\"\")\n",
    "    filename2 = filename.replace(\"/Log.final.out\",\"\")\n",
    "    df = pandas.read_csv(curr_summary_path, sep=\"\\t\", header=None)\n",
    "    raw_reads = df.iloc[[4]]\n",
    "    y = raw_reads[1].to_frame()\n",
    "    aligned_reads = df.iloc[[7]]\n",
    "    z = aligned_reads[1].to_frame()\n",
    "    percent_aligned = df.iloc[[8]]\n",
    "    #print percent_aligned\n",
    "    a = percent_aligned[1]\n",
    "    b = a.to_string() \n",
    "    c = b.replace(\"%\",\"\")\n",
    "    c1 = c.replace(\"8    \",\"\")\n",
    "    e = float(c1)\n",
    "    d = {\"Sample\": pandas.Series(filename2), \"Raw_Reads\": pandas.Series(float(y[1])),\n",
    "         \"Aligned_Reads\": pandas.Series(float(z[1])),\n",
    "         \"Percent_Uniquely_Aligned\": pandas.Series(e)}\n",
    "    p = pandas.DataFrame(data=d)\n",
    "    alignment_stats = alignment_stats.append(p)\n",
    "#print alignment_stats\n",
    "\n",
    "#View interactive table \n",
    "qgrid.show_grid(alignment_stats, grid_options={'forceFitColumns': False, 'defaultColumnWidth': 200})"
   ]
  },
  {
   "cell_type": "code",
   "execution_count": null,
   "metadata": {
    "code_folding": [
     0
    ],
    "collapsed": false
   },
   "outputs": [],
   "source": [
    "#Barplot of number of aligned reads per sample\n",
    "plt.figure(figsize=(10,10))\n",
    "ax = plt.subplot(111)\n",
    "alignment_stats.plot(ax=ax, kind='barh', title='# of Reads')\n",
    "ax.axis(x='off')\n",
    "ax.axvline(x=10000000, linewidth=2, color='Red', zorder=0)\n",
    "#plt.xlabel('# Aligned Reads',fontsize=16)\n",
    "for i, x in enumerate(alignment_stats.Sample):\n",
    "    ax.text(0, i + 0, x, ha='right', va= \"bottom\", fontsize='medium')\n",
    "plt.savefig('./alignment_stats_%s' %date ,dpi=300)  # save figure"
   ]
  },
  {
   "cell_type": "code",
   "execution_count": null,
   "metadata": {
    "code_folding": [
     0
    ],
    "collapsed": false,
    "run_control": {
     "marked": false
    }
   },
   "outputs": [],
   "source": [
    "###Flag samples with poor alignment or low numbers of reads\n",
    "df = alignment_stats\n",
    "failed_samples = df.loc[(df.Aligned_Reads < 10000000) | (df.Percent_Uniquely_Aligned < 60), ['Sample','Raw_Reads', 'Aligned_Reads', 'Percent_Uniquely_Aligned']]\n",
    "\n",
    "#View interactive table \n",
    "qgrid.show_grid(failed_samples, grid_options={'forceFitColumns': False, 'defaultColumnWidth': 200})"
   ]
  },
  {
   "cell_type": "code",
   "execution_count": null,
   "metadata": {
    "code_folding": [
     0
    ],
    "collapsed": false
   },
   "outputs": [],
   "source": [
    "#View Alignment Statistics for failed samples\n",
    "for failed in failed_samples[\"Sample\"]:\n",
    "    #fname = \"/data/results/star/%s/Log.final.out\" % failed\n",
    "    fname = \"./star/%s/Log.final.out\" % failed\n",
    "    with open(fname, 'r') as fin:\n",
    "        print failed + fin.read()"
   ]
  },
  {
   "cell_type": "code",
   "execution_count": null,
   "metadata": {
    "code_folding": [
     0
    ],
    "collapsed": false,
    "scrolled": true
   },
   "outputs": [],
   "source": [
    "###Samples that passed QC for alignment \n",
    "passed_samples = df.loc[(df.Aligned_Reads > 10000000) | (df.Percent_Uniquely_Aligned > 60), ['Sample','Raw_Reads', 'Aligned_Reads', 'Percent_Uniquely_Aligned']]\n",
    "\n",
    "print \"Number of samples that passed alignment QC = \" + str(len(passed_samples))\n",
    "#View interactive table \n",
    "qgrid.show_grid(passed_samples, grid_options={'forceFitColumns': False, 'defaultColumnWidth': 200})"
   ]
  },
  {
   "cell_type": "code",
   "execution_count": null,
   "metadata": {
    "code_folding": [
     0
    ],
    "collapsed": false
   },
   "outputs": [],
   "source": [
    "#View Alignment Statistics for passed samples\n",
    "for passed in passed_samples[\"Sample\"]:\n",
    "    #fname = \"/data/results/star/%s/Log.final.out\" % passed\n",
    "    fname = \"./star/%s/Log.final.out\" % passed\n",
    "    with open(fname, 'r') as fin:\n",
    "        print passed + fin.read()"
   ]
  },
  {
   "cell_type": "code",
   "execution_count": null,
   "metadata": {
    "collapsed": false
   },
   "outputs": [],
   "source": [
    "#Create new metadata file with samples that passed QC for differential expression analyses\n",
    "passed_list = passed_samples[\"Sample\"]\n",
    "meta_df_passed = meta_df.loc[meta_df.Sample.isin(passed_list2)]                        \n",
    "deseq_meta_new2 = \"/data/mccoy/new_meta_QCpassed.csv\"\n",
    "meta_df_passed.to_csv(deseq_meta_new2,index=False)\n",
    "print meta_df_passed"
   ]
  },
  {
   "cell_type": "code",
   "execution_count": null,
   "metadata": {
    "collapsed": false
   },
   "outputs": [],
   "source": [
    "print passed_list"
   ]
  },
  {
   "cell_type": "markdown",
   "metadata": {},
   "source": [
    "<a id = \"counts\"></a>\n",
    "### Counts Summary Statistics -- HTSeq\n",
    "\n",
    "The aligned reads were quantifed using RefSeq mm10 annotation using HTSeq-count (http://www-huber.embl.de/users/anders/HTSeq/doc/count.html). \n",
    "The counts for all samples are summarized and displayed below. "
   ]
  },
  {
   "cell_type": "markdown",
   "metadata": {},
   "source": [
    "# Differential Expression Analysis in R\n",
    "## Switch to R Kernel at top of screen: Kernel --> Change Kernel --> R"
   ]
  },
  {
   "cell_type": "code",
   "execution_count": null,
   "metadata": {
    "collapsed": true
   },
   "outputs": [],
   "source": [
    "##Set working directory\n",
    "working_dir <- \"/data/mccoy\"\n",
    "setwd(working_dir)\n",
    "date <- Sys.Date()"
   ]
  },
  {
   "cell_type": "code",
   "execution_count": null,
   "metadata": {
    "collapsed": true
   },
   "outputs": [],
   "source": [
    "#Set R options\n",
    "options(jupyter.plot_mimetypes = 'image/png')\n",
    "options(useHTTPS=FALSE)\n",
    "options(scipen=500)"
   ]
  },
  {
   "cell_type": "markdown",
   "metadata": {},
   "source": [
    "<a id = \"deseq\"></a>\n",
    "### Differential Expression Analysis -- Bioconductor DESeq2\n",
    "\n",
    "Differential expression analysis was performed with DESeq2 in Bioconductor (https://bioconductor.org/packages/release/bioc/html/DESeq2.html). \n",
    "The differentially expressed genes and raw counts for all samples are summarized and displayed below. "
   ]
  },
  {
   "cell_type": "code",
   "execution_count": null,
   "metadata": {
    "collapsed": false,
    "scrolled": true
   },
   "outputs": [],
   "source": [
    "#Load custom R scripts\n",
    "source(\"/data/ccbb_tickets/20160504_McCoy_Prince_RNAseq_pathways/src/rnaSeq/RNA_seq_DE.R\")"
   ]
  },
  {
   "cell_type": "code",
   "execution_count": null,
   "metadata": {
    "collapsed": false
   },
   "outputs": [],
   "source": [
    "#Load R packages; Execute this twice to clear the log\n",
    "require(limma)\n",
    "require(edgeR)\n",
    "require(DESeq2)\n",
    "require(RColorBrewer)\n",
    "require(cluster)\n",
    "library(gplots)\n",
    "library(SPIA)\n",
    "library(graphite)\n",
    "library(PoiClaClu)\n",
    "library(ggplot2)\n",
    "library(pathview)\n",
    "library(KEGG.db)\n",
    "library(mygene)\n",
    "library(splitstackshape)\n",
    "library(reshape)\n",
    "library(hwriter)\n",
    "library(ReportingTools)\n",
    "library(\"EnrichmentBrowser\")\n",
    "library(IRdisplay)\n",
    "library(repr)"
   ]
  },
  {
   "cell_type": "markdown",
   "metadata": {},
   "source": [
    "#### Read in gene count files for each sample"
   ]
  },
  {
   "cell_type": "code",
   "execution_count": null,
   "metadata": {
    "code_folding": [],
    "collapsed": false
   },
   "outputs": [],
   "source": [
    "#Compile individual count files\n",
    "#======================================================================================================================================\n",
    "#Specify working directory. Should be the name of your project, and there should be a subfolder within this\n",
    "#directory named \"counts\" which contains the raw count files in .txt format for all samples (output from htseq in Omics Pipe)\n",
    "##Set working directory\n",
    "setwd(working_dir)\n",
    "name<- \"McCoy_Prince_RNAseq_20160517\"\n",
    "\n",
    "#Reads in count files\n",
    "dir <- paste(getwd(), \"/counts\", sep=\"\")\n",
    "countFiles <- paste(dir, \"/\", dir(dir), sep='')\n",
    "countNames1 <- gsub('_counts.txt', '', countFiles)\n",
    "countNames <- gsub(sprintf(\"%s/\", dir), '', countNames1)\n",
    "countsDf <- NULL\n",
    "for (i in countFiles) {\n",
    "  dat <- read.csv(i, header=F, sep=\"\\t\", na.strings=\"\", as.is=T)\n",
    "  countsDf <- cbind(countsDf, dat[,2])\n",
    "}\n",
    "x1 <- dim(countsDf)[1]-4\n",
    "x2 <- dim(countsDf)[1]\n",
    "countsDf <- countsDf[-c(x1:x2),] # remove the last 5 lines, they hold no genes\n",
    "rownames(countsDf) <- read.csv(i, header=F, sep=\"\\t\", na.strings=\"\", as.is=T)$V1[-c(x1:x2)]\n",
    "colnames(countsDf) <- countNames\n",
    "write.csv(countsDf, sprintf(\"%s/%s_ALL_counts.csv\", working_dir, name)) #Creates file with all counts in one file\n",
    "\n",
    "df <- countsDf\n",
    "geneCount <- df\n",
    "rc <- rowSums(geneCount)\n",
    "geneCount <- geneCount[rc > 0,]\n",
    "N <- colSums(geneCount)\n",
    "names <- names(N)\n",
    "\n",
    "print(\"Top of Raw Counts File:\")\n",
    "head(geneCount)"
   ]
  },
  {
   "cell_type": "markdown",
   "metadata": {},
   "source": [
    "#### Visualize library size distribution for all samples from number of counts"
   ]
  },
  {
   "cell_type": "code",
   "execution_count": null,
   "metadata": {
    "collapsed": false,
    "scrolled": true
   },
   "outputs": [],
   "source": [
    "##Visualize library size distribution (# aligned reads)\n",
    "par(oma=c(5,1,1,1) + 0.1) \n",
    "barplot(N*1e-6, \n",
    "        ylab=\"Library size (millions)\", \n",
    "        main=c(\"Library size distribution\"),\n",
    "        names=names(N), \n",
    "        las=2,\n",
    "        cex.names=0.75\n",
    ")"
   ]
  },
  {
   "cell_type": "markdown",
   "metadata": {},
   "source": [
    "#### Preprocess count data and read in metadata (design file)"
   ]
  },
  {
   "cell_type": "code",
   "execution_count": null,
   "metadata": {
    "collapsed": false
   },
   "outputs": [],
   "source": [
    "# Preprocess data & read in metadata\n",
    "#=====================================================================================================================================\n",
    "#Read in design file. Example in s3://ucsd-ccb-data-analysis/Katie/RNAseq_scripts\n",
    "#meta <- read.csv(sprintf(\"%s_design.csv\",name), header=T, stringsAsFactor=FALSE)\n",
    "\n",
    "#Read in design file with good quality samples only\n",
    "meta <- read.csv(sprintf(\"%s/new_meta_QCpassed.csv\",working_dir), header=T, stringsAsFactors=FALSE)\n",
    "\n",
    "dds <- DESeqDataSetFromMatrix(countData = geneCount, \n",
    "                              colData = meta,\n",
    "                              design = ~condition)\n",
    "#Run differential expression analysis\n",
    "dds <- DESeq(dds)"
   ]
  },
  {
   "cell_type": "markdown",
   "metadata": {},
   "source": [
    "#### MDS (PCA) plot "
   ]
  },
  {
   "cell_type": "code",
   "execution_count": null,
   "metadata": {
    "collapsed": false
   },
   "outputs": [],
   "source": [
    "#Create MDS plot for all samples\n",
    "rld <- rlog(dds)\n",
    "poisd <- PoissonDistance(t(counts(dds)))\n",
    "samplePoisDistMatrix <- as.matrix( poisd$dd )\n",
    "rownames(samplePoisDistMatrix) <- paste( dds$dex, dds$cell, sep=\"-\" )\n",
    "mds <- data.frame(cmdscale(samplePoisDistMatrix))\n",
    "mds <- cbind(mds, colData(rld))\n",
    "mds <- as.data.frame(mds)\n",
    "qplot(X1,X2,color=condition,data=mds,size=5, shape=genotype)\n"
   ]
  },
  {
   "cell_type": "code",
   "execution_count": null,
   "metadata": {
    "collapsed": false
   },
   "outputs": [],
   "source": [
    "##Run all plotting code and save to PDF\n",
    "pdf(sprintf(\"%s/%s_all_samples_plots_%s.pdf\", working_dir, name,date))  \n",
    "par(oma=c(5,1,1,1) + 0.1) \n",
    "barplot(N*1e-6, \n",
    "        ylab=\"Library size (millions)\", \n",
    "        main=c(\"Library size distribution\"),\n",
    "        names=names(N), \n",
    "        las=2,\n",
    "        cex.names=0.75\n",
    ")\n",
    "poisd <- PoissonDistance(t(counts(dds)))\n",
    "samplePoisDistMatrix <- as.matrix( poisd$dd )\n",
    "rownames(samplePoisDistMatrix) <- paste( dds$dex, dds$cell, sep=\"-\" )\n",
    "mds <- data.frame(cmdscale(samplePoisDistMatrix))\n",
    "mds <- cbind(mds, colData(rld))\n",
    "mds <- as.data.frame(mds)\n",
    "qplot(X1,X2,color=condition,data=mds,size=5, shape=genotype)\n",
    "dev.off()"
   ]
  },
  {
   "cell_type": "markdown",
   "metadata": {},
   "source": [
    "#### Specify samples for desired comparisons for differential expression analysis"
   ]
  },
  {
   "cell_type": "markdown",
   "metadata": {},
   "source": [
    "### Wt Only LPS vs Control"
   ]
  },
  {
   "cell_type": "code",
   "execution_count": null,
   "metadata": {
    "collapsed": false,
    "run_control": {
     "marked": false
    }
   },
   "outputs": [],
   "source": [
    "#Read in design file with good quality samples only\n",
    "meta <- read.csv(sprintf(\"%s/new_meta_QCpassed.csv\",working_dir), header=T, stringsAsFactors=FALSE)\n",
    "\n",
    "#Create new meta files with subsets of samples for desired comparisons\n",
    "#Failed samples 468-4-LPS, 468-6_CTRL, 697-4_LPS-2\n",
    "\n",
    "#wt to wt LPS vs Control\n",
    "desired_samples <- c(\"468-4_CTRL\",\"685-2_CTRL-3\",\"685-2_LPS-2\",\n",
    "                    \"697-1_CTRL-3\",\"697-1_LPS-1\",\"697-3_CTRL-3\",\"697-3_LPS-2\") #removed failed sample 468-4 LPS\n",
    "desired_design <- \"~condition + pair\"\n",
    "name2 <- \"WTonly_LPSvsControl\"\n",
    "\n",
    "desired_samples\n",
    "desired_design\n",
    "name2"
   ]
  },
  {
   "cell_type": "code",
   "execution_count": null,
   "metadata": {
    "collapsed": false
   },
   "outputs": [],
   "source": [
    "#Reload count files for desired meta file\n",
    "df <- countsDf\n",
    "geneCount <- df\n",
    "rc <- rowSums(geneCount)\n",
    "geneCount <- geneCount[rc > 0,]\n",
    "N <- colSums(geneCount)\n",
    "names <- names(N)\n",
    "\n",
    "#Update meta data file\n",
    "#meta <- meta[match(colnames(geneCount),desired_samples),]\n",
    "meta <- meta[(colnames(geneCount) %in% desired_samples),]\n",
    "meta <- meta[complete.cases(meta),]\n",
    "rownames(meta) <- meta$Sample\n",
    "print(\"Meta Data File:\")\n",
    "meta\n",
    "\n",
    "#Subset geneCounts for desired samples\n",
    "geneCount <- geneCount[,meta$Sample]\n",
    "df<-df[,meta$Sample]\n",
    "check <- cbind(meta$Sample, colnames(geneCount))\n",
    "group <- meta$condition\n",
    "print(\"Top of Counts File:\")\n",
    "head(geneCount)"
   ]
  },
  {
   "cell_type": "markdown",
   "metadata": {
    "collapsed": false
   },
   "source": [
    "#### Normalization & Differential Expression Analysis"
   ]
  },
  {
   "cell_type": "code",
   "execution_count": null,
   "metadata": {
    "collapsed": false
   },
   "outputs": [],
   "source": [
    "#Differential expression\n",
    "#=====================================================================================================================================\n",
    "\n",
    "#Normalization of raw counts using deseq\n",
    "trsLength <- NA\n",
    "if(is.element(\"length\", colnames(df)))\n",
    "  trsLength <- df[rc > 0,\"length\"]\n",
    "norm <- getNormData(df, group, trsLength, addRaw=TRUE)\n",
    "deseq <- log2(norm$DESeq+1)\n",
    "sf_deseq <- getSizeFactor(df, group)$DESeq # save the size factors of the ref cohort\n",
    "write.csv(deseq, sprintf(\"%s/DEseq_normalized_counts_%s.csv\",working_dir,name))\n",
    "# nonspecic Filtering\n",
    "sds <- apply(deseq,1,sd)\n",
    "use <- (sds > quantile(sds, 0.75))\n",
    "deseqNsf <- deseq[use,]\n",
    "\n",
    "\n",
    "#Create DEseq dataset from matrix\n",
    "dds <- DESeqDataSetFromMatrix(countData = geneCount, \n",
    "                              colData = meta,\n",
    "                              design = formula(desired_design))\n",
    "#Run differential expression analysis\n",
    "dds <- DESeq(dds)\n",
    "ddsClean <- replaceOutliersWithTrimmedMean(dds)\n",
    "ddsClean <- DESeq(ddsClean)\n",
    "res <- results(ddsClean)\n",
    "\n",
    "#res <- results(ddsClean, contrast=c(\"condition\", \"LPS\", \"Control\")) #Specify conditions for DE comparison here if more than two conditions\n",
    "res <- res[order(res$padj),]\n",
    "write.csv(res, sprintf(\"%s/DE_genes_%s_%s_%s.csv\", working_dir, name, name2, date)) #Writes results of differential expression analysis to this file in your working dir\n"
   ]
  },
  {
   "cell_type": "markdown",
   "metadata": {},
   "source": [
    "#### Summarize Differentially Expressed Genes"
   ]
  },
  {
   "cell_type": "code",
   "execution_count": null,
   "metadata": {
    "collapsed": false,
    "scrolled": true
   },
   "outputs": [],
   "source": [
    "#Differentially expressed genes\n",
    "DE <- subset(res, padj < 0.001) #specify level of DE\n",
    "DE2 <- subset(DE,  abs(log2FoldChange) > 1) #specify level of DE\n",
    "\n",
    "gene_list <- row.names(DE2)\n",
    "write.csv(gene_list, sprintf(\"%s/DE_gene_ID_list_%s_%s_%s.csv\", working_dir, name, name2, date))\n",
    "\n",
    "print(\"Number of Differentially Expressed Genes padj < 0.001:\")\n",
    "nrow(DE)\n",
    "\n",
    "print(\"Number of Differentially Expressed Genes padj < 0.001 and log2FoldChange > 1:\")\n",
    "nrow(DE2)\n",
    "\n",
    "print(\"Top of Differentially Expressed Genes List:\")\n",
    "head(as.data.frame(DE2))\n",
    "\n",
    "print(\"List of Differentially Expressed Genes to Cut and Copy for Enrichment Analyses\")\n",
    "cat(gene_list)"
   ]
  },
  {
   "cell_type": "markdown",
   "metadata": {},
   "source": [
    "#### Plots for Differential Expression"
   ]
  },
  {
   "cell_type": "code",
   "execution_count": null,
   "metadata": {
    "collapsed": true
   },
   "outputs": [],
   "source": [
    "##Set working directory\n",
    "setwd(working_dir)"
   ]
  },
  {
   "cell_type": "code",
   "execution_count": null,
   "metadata": {
    "collapsed": false
   },
   "outputs": [],
   "source": [
    "#Create distance matrix heatmap and clustering\n",
    "#pdf(sprintf(\"%s_%s_plots_%s.pdf\", name, name2,date))  #Uncomment this to save all plots to a pdf file\n",
    "#png(sprintf(\"%s_%s_plots_%s.png\", name, name2,date),res=1200, width=4,height=4, units='in')  #Uncomment this to save all plots to a pdf file\n",
    "\n",
    "rld <- rlog(dds)\n",
    "distsRL <- dist(t(assay(rld)))\n",
    "mat <- as.matrix(distsRL)\n",
    "rownames(mat) <- colnames(mat) <- with(colData(dds), paste(Sample, genotype, sep=\":\"))\n",
    "hmcol <- colorRampPalette(brewer.pal(9, \"GnBu\"))(100)\n",
    "heatmap.2(mat, trace=\"none\", col = rev(hmcol), margin=c(13, 13))"
   ]
  },
  {
   "cell_type": "code",
   "execution_count": null,
   "metadata": {
    "collapsed": false
   },
   "outputs": [],
   "source": [
    "#Create MDS plot for samples in desired comparison\n",
    "poisd <- PoissonDistance(t(counts(dds)))\n",
    "samplePoisDistMatrix <- as.matrix( poisd$dd )\n",
    "rownames(samplePoisDistMatrix) <- paste( dds$dex, dds$cell, sep=\"-\" )\n",
    "mds <- data.frame(cmdscale(samplePoisDistMatrix))\n",
    "mds <- cbind(mds, colData(rld))\n",
    "mds <- as.data.frame(mds)\n",
    "qplot(X1,X2,color=condition,data=mds,size=5)"
   ]
  },
  {
   "cell_type": "code",
   "execution_count": null,
   "metadata": {
    "collapsed": false
   },
   "outputs": [],
   "source": [
    "#Create Heatmap of differentially expressed genes\n",
    "#DE <- subset(res, padj < 0.05) #specify level of DE\n",
    "#DE <- subset(top$table, FDR < 0.05) #specify level of DE\n",
    "DE <- subset(res, padj < 0.001) #specify level of DE\n",
    "DE2 <- subset(DE,  abs(log2FoldChange) > 1) #specify level of DE\n",
    "\n",
    "#DE <- subset(res, pvalue < 0.01)\n",
    "useHeat <- row.names(DE2)\n",
    "deseqHeat <- deseq[useHeat,] \n",
    "colnames(deseqHeat) <- with(colData(dds), paste(Sample, genotype, sep=\":\"))\n",
    "#deseqHeat <-deseqHeat[,]\n",
    "par(oma=c(5,1,1,1) + 0.1) \n",
    "heatmap.2(deseqHeat, \n",
    "          Rowv=TRUE, \n",
    "          #Colv=hc, \n",
    "          col=rev(redgreen(75)), \n",
    "          scale=\"row\", \n",
    "          #ColSideColors=unlist(sapply(group, mycol)), \n",
    "          trace=\"none\", \n",
    "          key=TRUE,\n",
    "          cexRow=0.35,\n",
    "          cexCol=1,\n",
    "          dendrogram=\"both\"\n",
    "          #labRow=TRUE\n",
    ")"
   ]
  },
  {
   "cell_type": "code",
   "execution_count": null,
   "metadata": {
    "collapsed": false,
    "scrolled": true
   },
   "outputs": [],
   "source": [
    "#Create Heatmap of top 100 differentially expressed genes\n",
    "#DE <- subset(res, padj < 0.05) #specify level of DE\n",
    "#DE <- subset(top$table, FDR < 0.05) #specify level of DE\n",
    "DE <- subset(res, padj < 0.001) #specify level of DE\n",
    "DE2 <- subset(DE,  abs(log2FoldChange) > 1) #specify level of DE\n",
    "DE_100 <- DE2[1:100,]\n",
    "\n",
    "#DE <- subset(res, pvalue < 0.01)\n",
    "useHeat <- row.names(DE_100)\n",
    "deseqHeat <- deseq[useHeat,] \n",
    "colnames(deseqHeat) <- with(colData(dds), paste(Sample, genotype, sep=\":\"))\n",
    "#deseqHeat <-deseqHeat[,]\n",
    "par(oma=c(5,1,1,1) + 0.1) \n",
    "heatmap.2(deseqHeat, \n",
    "          Rowv=TRUE, \n",
    "          #Colv=hc, \n",
    "          col=rev(redgreen(75)), \n",
    "          scale=\"row\", \n",
    "          #ColSideColors=unlist(sapply(group, mycol)), \n",
    "          trace=\"none\", \n",
    "          key=TRUE,\n",
    "          cexRow=0.35,\n",
    "          cexCol=1,\n",
    "          dendrogram=\"both\"\n",
    "          #labRow=TRUE\n",
    ")"
   ]
  },
  {
   "cell_type": "code",
   "execution_count": null,
   "metadata": {
    "code_folding": [
     0
    ],
    "collapsed": false
   },
   "outputs": [],
   "source": [
    "##Run all plotting code and save to PDF\n",
    "\n",
    "##Set working directory\n",
    "setwd(working_dir)\n",
    "\n",
    "#Create distance matrix heatmap and clustering\n",
    "pdf(sprintf(\"%s/%s_%s_plots_%s.pdf\", working_dir, name, name2,date))  #Uncomment this to save all plots to a pdf file\n",
    "#png(sprintf(\"%s_%s_plots_%s.png\", name, name2,date),res=1200, width=4,height=4, units='in')  #Uncomment this to save all plots to a pdf file\n",
    "\n",
    "#Create distance matrix\n",
    "rld <- rlog(dds)\n",
    "distsRL <- dist(t(assay(rld)))\n",
    "mat <- as.matrix(distsRL)\n",
    "rownames(mat) <- colnames(mat) <- with(colData(dds), paste(Sample, genotype, sep=\":\"))\n",
    "hmcol <- colorRampPalette(brewer.pal(9, \"GnBu\"))(100)\n",
    "heatmap.2(mat, trace=\"none\", col = rev(hmcol), margin=c(13, 13))\n",
    "\n",
    "#Create MDS plot for samples in desired comparison\n",
    "poisd <- PoissonDistance(t(counts(dds)))\n",
    "samplePoisDistMatrix <- as.matrix( poisd$dd )\n",
    "rownames(samplePoisDistMatrix) <- paste( dds$dex, dds$cell, sep=\"-\" )\n",
    "mds <- data.frame(cmdscale(samplePoisDistMatrix))\n",
    "mds <- cbind(mds, colData(rld))\n",
    "mds <- as.data.frame(mds)\n",
    "qplot(X1,X2,color=condition,data=mds,size=5)\n",
    "\n",
    "#Create Heatmap of differentially expressed genes\n",
    "#DE <- subset(res, padj < 0.05) #specify level of DE\n",
    "#DE <- subset(top$table, FDR < 0.05) #specify level of DE\n",
    "DE <- subset(res, padj < 0.001) #specify level of DE\n",
    "DE2 <- subset(DE,  abs(log2FoldChange) > 1) #specify level of DE\n",
    "\n",
    "#DE <- subset(res, pvalue < 0.01)\n",
    "useHeat <- row.names(DE2)\n",
    "deseqHeat <- deseq[useHeat,] \n",
    "colnames(deseqHeat) <- with(colData(dds), paste(Sample, genotype, sep=\":\"))\n",
    "#deseqHeat <-deseqHeat[,]\n",
    "par(oma=c(5,1,1,1) + 0.1) \n",
    "heatmap.2(deseqHeat, \n",
    "          Rowv=TRUE, \n",
    "          #Colv=hc, \n",
    "          col=rev(redgreen(75)), \n",
    "          scale=\"row\", \n",
    "          #ColSideColors=unlist(sapply(group, mycol)), \n",
    "          trace=\"none\", \n",
    "          key=TRUE,\n",
    "          cexRow=0.35,\n",
    "          cexCol=1,\n",
    "          dendrogram=\"both\"\n",
    "          #labRow=TRUE\n",
    ")\n",
    "\n",
    "#Create Heatmap of top 100 differentially expressed genes\n",
    "#DE <- subset(res, padj < 0.05) #specify level of DE\n",
    "#DE <- subset(top$table, FDR < 0.05) #specify level of DE\n",
    "DE <- subset(res, padj < 0.001) #specify level of DE\n",
    "DE2 <- subset(DE,  abs(log2FoldChange) > 1) #specify level of DE\n",
    "DE_100 <- DE2[1:100,]\n",
    "\n",
    "#DE <- subset(res, pvalue < 0.01)\n",
    "useHeat <- row.names(DE_100)\n",
    "deseqHeat <- deseq[useHeat,] \n",
    "colnames(deseqHeat) <- with(colData(dds), paste(Sample, genotype, sep=\":\"))\n",
    "#deseqHeat <-deseqHeat[,]\n",
    "par(oma=c(5,1,1,1) + 0.1) \n",
    "heatmap.2(deseqHeat, \n",
    "          Rowv=TRUE, \n",
    "          #Colv=hc, \n",
    "          col=rev(redgreen(75)), \n",
    "          scale=\"row\", \n",
    "          #ColSideColors=unlist(sapply(group, mycol)), \n",
    "          trace=\"none\", \n",
    "          key=TRUE,\n",
    "          cexRow=0.35,\n",
    "          cexCol=1,\n",
    "          dendrogram=\"both\"\n",
    "          #labRow=TRUE\n",
    ")\n",
    "\n",
    "dev.off()"
   ]
  },
  {
   "cell_type": "markdown",
   "metadata": {},
   "source": [
    "## Run Functional Enrichment Analyses"
   ]
  },
  {
   "cell_type": "markdown",
   "metadata": {},
   "source": [
    "### Prepare DE results from above as input to functional enrichment analyses"
   ]
  },
  {
   "cell_type": "code",
   "execution_count": null,
   "metadata": {
    "collapsed": true
   },
   "outputs": [],
   "source": [
    "##Set working directory\n",
    "setwd(working_dir)"
   ]
  },
  {
   "cell_type": "code",
   "execution_count": null,
   "metadata": {
    "collapsed": false
   },
   "outputs": [],
   "source": [
    "###Annotated differential expression results for all genes\n",
    "all_results <- as.data.frame(res)\n",
    "id_list_all <- row.names(res)\n",
    "out_all<-queryMany(id_list_all, scopes=\"symbol\", fields=\"entrezgene\", species=\"mouse\")"
   ]
  },
  {
   "cell_type": "code",
   "execution_count": null,
   "metadata": {
    "collapsed": false
   },
   "outputs": [],
   "source": [
    "##Merge annotations with original DE results\n",
    "merged_all <- merge(all_results, out_all, by.x=\"row.names\", by.y=\"query\", all.x=TRUE)\n",
    "merged_all_sub <- subset(merged_all, !is.na(merged_all$entrezgene))\n",
    "head(merged_all_sub)\n",
    "nrow(merged_all_sub)"
   ]
  },
  {
   "cell_type": "code",
   "execution_count": null,
   "metadata": {
    "collapsed": false
   },
   "outputs": [],
   "source": [
    "#Prepare Differentially expressed genes and All genes for SPIA input\n",
    "DE <- subset(res, padj < 0.001) #specify level of DE\n",
    "DE2 <- subset(DE,  abs(log2FoldChange) > 1) #specify level of DE\n",
    "id_list <- row.names(DE2)\n",
    "out<-queryMany(id_list, scopes=\"symbol\", fields=\"entrezgene\", species=\"mouse\")\n",
    "merged <- merge(data.frame(DE2), out, by.x=\"row.names\", by.y=\"query\", all.x=TRUE)\n",
    "merged_sub <- subset(merged, !is.na(merged$entrezgene))\n",
    "\n",
    "DE_genes1 <- as.vector(merged_sub$log2FoldChange)\n",
    "DE_genes2 <- gsub(\"Inf\", 5, DE_genes1)\n",
    "DE_genes2 <- as.numeric(DE_genes2)\n",
    "DE_genes <- gsub(\"-Inf\", -5, DE_genes2)\n",
    "DE_genes <-as.numeric(DE_genes)\n",
    "names(DE_genes) <- merged_sub$entrezgene\n",
    "head(DE_genes)\n",
    "ALL_genes <- merged_all_sub$entrezgene\n",
    "head(ALL_genes)"
   ]
  },
  {
   "cell_type": "markdown",
   "metadata": {},
   "source": [
    "### Run Signaling Pathway Impact Analysis (SPIA)"
   ]
  },
  {
   "cell_type": "code",
   "execution_count": null,
   "metadata": {
    "collapsed": true
   },
   "outputs": [],
   "source": [
    "##Set working directory\n",
    "setwd(working_dir)"
   ]
  },
  {
   "cell_type": "code",
   "execution_count": null,
   "metadata": {
    "collapsed": false
   },
   "outputs": [],
   "source": [
    "##Run SPIA\n",
    "res = spia(de=DE_genes, all=ALL_genes, organism=\"mmu\", nB=2000, plots=FALSE, beta=NULL, combine=\"fisher\" ) #MAYBE NEED TO ADD DATADIR\n",
    "write.csv(res, file = sprintf(\"%s/spia_output__%s_%s_fisher.csv\", working_dir, name, date))"
   ]
  },
  {
   "cell_type": "code",
   "execution_count": null,
   "metadata": {
    "collapsed": false
   },
   "outputs": [],
   "source": [
    "#View top of the results table\n",
    "head(res)"
   ]
  },
  {
   "cell_type": "markdown",
   "metadata": {},
   "source": [
    "### Run EnrichmentBrowser Tool"
   ]
  },
  {
   "cell_type": "code",
   "execution_count": null,
   "metadata": {
    "collapsed": true
   },
   "outputs": [],
   "source": [
    "##Set working directory\n",
    "setwd(working_dir)"
   ]
  },
  {
   "cell_type": "code",
   "execution_count": null,
   "metadata": {
    "collapsed": false
   },
   "outputs": [],
   "source": [
    "##Download, run, and prepare mmu databases\n",
    "#setwd(working_dir)\n",
    "kegg.gs.mmu <- get.kegg.genesets(\"mmu\")\n",
    "go.gs.mmu <- get.go.genesets(org=\"mmu\", onto=\"BP\", mode=\"GO.db\")\n",
    "pwys.mmu <- download.kegg.pathways(\"mmu\")\n",
    "mmu.grn <- compile.grn.from.kegg(pwys.mmu)"
   ]
  },
  {
   "cell_type": "markdown",
   "metadata": {},
   "source": [
    "### Prepare differential expression result data as Bioconductor ExpressionSet"
   ]
  },
  {
   "cell_type": "code",
   "execution_count": null,
   "metadata": {
    "collapsed": true
   },
   "outputs": [],
   "source": [
    "##Set working directory\n",
    "setwd(working_dir)"
   ]
  },
  {
   "cell_type": "code",
   "execution_count": null,
   "metadata": {
    "collapsed": false
   },
   "outputs": [],
   "source": [
    "gene_ids_from_merged_all <- merged_all_sub$Row.names\n",
    "merged_all_sub_unique <- merged_all_sub[!duplicated(merged_all_sub$Row.names),]\n",
    "unique_genes <- gene_ids_from_merged_all[!duplicated(gene_ids_from_merged_all)]\n",
    "#length(unique_genes)\n",
    "exprs1 <- subset(geneCount, rownames(geneCount) %in% unique_genes)\n",
    "\n",
    "exprs <- as.matrix(exprs1)\n",
    "row.names(exprs) <- NULL\n",
    "colnames(exprs) <- NULL\n",
    "#nrow(exprs)\n",
    "write.table(exprs, sprintf(\"/data/mccoy/DE_exprs_%s_%s_%s.tab\", name, name2, date), sep=\"\\t\",row.names = F,col.names = F)\n",
    "\n",
    "pdat1 <- data.frame(\"names\" =colnames(geneCount))\n",
    "#pdat1\n",
    "meta_merge <- merge(pdat1, meta, by.x = \"names\", by.y=\"Sample\")\n",
    "#meta_merge\n",
    "meta_merge$condition_binary <- ifelse(meta_merge$condition == \"LPS\", 1, 0)\n",
    "pdat2 <- data.frame(meta_merge$names, meta_merge$condition_binary, meta_merge$pair)\n",
    "pdat <- as.matrix(pdat2)\n",
    "row.names(pdat) <- NULL\n",
    "colnames(pdat) <- NULL\n",
    "write.table(pdat, sprintf(\"/data/mccoy/DE_pdat_%s_%s_%s.tab\", name, name2, date), sep=\"\\t\",row.names = F,col.names = F)\n",
    "\n",
    "fdat1 <- data.frame(\"names\"= row.names(exprs1))\n",
    "fdat2 <- merge(fdat1, merged_all_sub_unique, by.x=\"names\", by.y=\"Row.names\")\n",
    "fdat <- data.frame(fdat2$entrezgene)\n",
    "#nrow(fdat)\n",
    "#head(fdat)\n",
    "write.table(fdat, sprintf(\"/data/mccoy/DE_fdat_%s_%s_%s.tab\", name, name2, date), sep=\"\\t\",row.names = F,col.names = F)\n",
    "\n",
    "#Create fdat from DE results instead of built in DE function from EnrichmentBrowser\n",
    "fdat_DE <- data.frame(\"ENTREZID\" = merged_all_sub_unique$entrezgene, \"FC\" = merged_all_sub_unique$log2FoldChange, \n",
    "                      \"ADJ.PVAL\" = merged_all_sub_unique$padj, \"DESeq.STAT\" = merged_all_sub_unique$stat)\n",
    "row.names(fdat_DE) <- fdat_DE$ENTREZID\n",
    "head(fdat_DE)\n",
    "write.table(fdat_DE, sprintf(\"/data/mccoy/DE_fdat_DEresults_%s_%s_%s.tab\", name, name2, date), sep=\"\\t\",row.names = F,col.names = F)\n",
    "\n",
    "#Create Expression Set from real data, does not include DE expression results\n",
    "eset_raw <- read.eset(exprs.file=sprintf(\"/data/mccoy/DE_exprs_%s_%s_%s.tab\", name, name2, date), pdat.file=sprintf(\"/data/mccoy/DE_pdat_%s_%s_%s.tab\", name, name2, date), \n",
    "                  fdat.file=sprintf(\"/data/mccoy/DE_fdat_%s_%s_%s.tab\", name, name2, date), data.type='rseq')\n",
    "\n",
    "#Create ExpressionSet from real data, include DE expression results as fdata\n",
    "eset_DE <- read.eset(exprs.file=sprintf(\"/data/mccoy/DE_exprs_%s_%s_%s.tab\", name, name2, date), pdat.file=sprintf(\"/data/mccoy/DE_pdat_%s_%s_%s.tab\", name, name2, date), \n",
    "                  fdat.file=sprintf(\"/data/mccoy/DE_fdat_DEresults_%s_%s_%s.tab\", name, name2, date), data.type='rseq')\n",
    "\n",
    "#Fix column names for eset_DE and check \n",
    "colnames(fData(eset_DE)) <- c(\"ENTREZID\", \"FC\", \"ADJ.PVAL\", \"DESeq.STAT\")\n",
    "\n",
    "#Recode pvalues to capture desired significance level\n",
    "fData(eset_DE)$ADJ.PVAL <- as.numeric(fData(eset_DE)$ADJ.PVAL)\n",
    "fData(eset_DE)$FC <- as.numeric(fData(eset_DE)$FC)\n",
    "fData(eset_DE)$ADJ.PVAL[is.na(fData(eset_DE)$ADJ.PVAL)] <- 1\n",
    "fData(eset_DE)$FC[is.na(fData(eset_DE)$FC)] <- 0\n",
    "class(fData(eset_DE)$ADJ.PVAL)\n",
    "class(fData(eset_DE)$FC)\n",
    "head(fData(eset_DE))\n",
    "\n",
    "#View plots of ExpressionSets\n",
    "par(mfrow=c(1,2))\n",
    "pdistr(fData(eset_DE)$ADJ.PVAL)\n",
    "volcano(fData(eset_DE)$FC, fData(eset_DE)$ADJ.PVAL)"
   ]
  },
  {
   "cell_type": "markdown",
   "metadata": {},
   "source": [
    "### Run EnrichmentBrowser for KEGG and GO Gene Sets"
   ]
  },
  {
   "cell_type": "code",
   "execution_count": null,
   "metadata": {
    "collapsed": false
   },
   "outputs": [],
   "source": [
    "###Run SBEA kegg for original pvalues\n",
    "sbea.res.kegg <- sbea(method=\"ora\", eset=eset_DE, gs=kegg.gs.mmu, perm=0, alpha=0.001, beta = 1, padj.method=\"BH\",\n",
    "                      out.file=sprintf(\"%s/SBEA_KEGG_results_%s_%s_%s.txt\", working_dir, name, name2, date))\n",
    "                      #, out.file=\"/data/mccoy/SBEA_KEGG_RESULTS_test.txt\",beta = 1, sig.stat='&')\n",
    "#This works and gives good concordance with Webgestalt and ToppGene\n",
    "#Basic Overrepresentation  Analysis\n",
    "sbea.res.kegg <- sbea(method=\"ora\", eset=eset_DE, gs=kegg.gs.mmu, perm=0, alpha=0.001, beta = 1, padj.method=\"BH\")\n",
    "gs.ranking(sbea.res.kegg,signif.only=TRUE)"
   ]
  },
  {
   "cell_type": "code",
   "execution_count": null,
   "metadata": {
    "code_folding": [
     0
    ],
    "collapsed": true
   },
   "outputs": [],
   "source": [
    "###Enrichment Browser functions not being recognized for some reason. Defining them here works. \n",
    "determine.edge.color <- function(edge.cons){\n",
    "    ifelse(edge.cons < 0, rgb(0,0,abs(edge.cons)), rgb(abs(edge.cons),0,0))    \n",
    "}\n",
    "\n",
    "is.consistent <-function (grn.rel) {\n",
    "    act.cons <- mean(abs(grn.rel[1:2]))\n",
    "    if (length(grn.rel) == 2) \n",
    "        return(act.cons)\n",
    "    if (sum(sign(grn.rel[1:2])) == 0) \n",
    "        act.cons <- -act.cons\n",
    "    return(ifelse(grn.rel[3] == 1, act.cons, -act.cons))\n",
    "}"
   ]
  },
  {
   "cell_type": "code",
   "execution_count": null,
   "metadata": {
    "collapsed": false
   },
   "outputs": [],
   "source": [
    "#Create EnrichmentBrowser Html Report with Pathway Viz\n",
    "setwd(\"/root/anaconda3/lib/R/library/EnrichmentBrowser/results/reports\")\n",
    "ea.browse(sbea.res.kegg)\n",
    "\n",
    "#Compress and Move html results from default EnrichmentBrowser directory to desired directory\n",
    "dir.create(sprintf(\"%s/EnrichmentBrowser\", working_dir), showWarnings=FALSE)\n",
    "zip(zipfile = sprintf(\"/data/mccoy/EnrichmentBrowser/SBEA_KEGG_results_%s_%s_%s.zip\", name, name2, date), \"/root/anaconda3/lib/R/library/EnrichmentBrowser/results/reports\")"
   ]
  },
  {
   "cell_type": "code",
   "execution_count": null,
   "metadata": {
    "collapsed": false
   },
   "outputs": [],
   "source": [
    "###Run SBEA GO for original pvalues\n",
    "###sbea.res.go <- sbea(method=\"ora\", eset=eset_DE, gs=go.gs.mmu, perm=0, alpha=0.001, beta = 1, padj.method=\"BH\",\n",
    "#                    #out.file=sprintf(\"%s/SBEA_GO_results_%s_%s_%s.txt\", working_dir, name, name2, date))\n",
    "                      #, out.file=\"/data/mccoy/SBEA_KEGG_RESULTS_test.txt\",beta = 1, sig.stat='&')\n",
    "#This works and gives good concordance with Webgestalt and ToppGene\n",
    "#Basic Overrepresentation  Analysis\n",
    "##sbea.res.go <- sbea(method=\"ora\", eset=eset_DE, gs=go.gs.mmu, perm=0, alpha=0.001, beta = 1, padj.method=\"BH\")\n",
    "##gs.ranking(sbea.res.go,signif.only=TRUE)"
   ]
  },
  {
   "cell_type": "code",
   "execution_count": null,
   "metadata": {
    "collapsed": false
   },
   "outputs": [],
   "source": [
    "#Create EnrichmentBrowser Html Report with Pathway Viz\n",
    "#this works!!\n",
    "#setwd(\"/root/anaconda3/lib/R/library/EnrichmentBrowser/results/reports\")\n",
    "##ea.browse(sbea.res.go)\n",
    "\n",
    "#Compress and Move html results from default EnrichmentBrowser directory to desired directory\n",
    "##zip(zipfile = sprintf(\"/data/mccoy/EnrichmentBrowser/SBEA_GO_results_%s_%s_%s.zip\", name, name2, date), \"/root/anaconda3/lib/R/library/EnrichmentBrowser/results/reports\")"
   ]
  },
  {
   "cell_type": "markdown",
   "metadata": {},
   "source": [
    "### Network Enrichment Analysis using EnrichmentBrowser\n"
   ]
  },
  {
   "cell_type": "code",
   "execution_count": null,
   "metadata": {
    "collapsed": false
   },
   "outputs": [],
   "source": [
    "#Network based enrichment analysis using EnrichmentBrowser\n",
    "#kegg.gs.mmu <- get.kegg.genesets(\"mmu\")\n",
    "#go.gs.mmu <- get.go.genesets(org=\"mmu\", onto=\"BP\", mode=\"GO.db\")\n",
    "#pwys.mmu <- download.kegg.pathways(\"mmu\")\n",
    "#mmu.grn <- compile.grn.from.kegg(pwys.mmu)\n",
    "# perform GGEA using the compiled KEGG regulatory network\n",
    "nbea.res <- nbea(method=\"ggea\", eset=eset_DE, gs=kegg.gs.mmu, grn=mmu.grn)\n",
    "gs.ranking(nbea.res)"
   ]
  },
  {
   "cell_type": "code",
   "execution_count": null,
   "metadata": {
    "collapsed": false
   },
   "outputs": [],
   "source": [
    "#View network\n",
    "par(mfrow=c(1,2))\n",
    "ggea.graph(\n",
    "    gs=kegg.gs.mmu[[\"mmu04145_Phagosome\"]],\n",
    "    grn=mmu.grn, eset=eset_DE)"
   ]
  },
  {
   "cell_type": "code",
   "execution_count": null,
   "metadata": {
    "collapsed": false
   },
   "outputs": [],
   "source": [
    "ggea.graph.legend()"
   ]
  },
  {
   "cell_type": "code",
   "execution_count": null,
   "metadata": {
    "collapsed": false
   },
   "outputs": [],
   "source": [
    "#Combine enrichment results from different analysis methods\n",
    "res.list <- list(sbea.res.kegg, nbea.res)\n",
    "comb.res <- comb.ea.results(res.list)\n",
    "ea.browse(comb.res, graph.view=mmu.grn, nr.show=5)\n",
    "\n",
    "#Compress and Move html results from default EnrichmentBrowser directory to desired directory\n",
    "zip(zipfile = sprintf(\"%s/EnrichmentBrowser/SBEA_Combined_results_%s_%s_%s.zip\", working_dir, name, name2, date), \"/root/anaconda3/lib/R/library/EnrichmentBrowser/results/reports\")"
   ]
  },
  {
   "cell_type": "markdown",
   "metadata": {},
   "source": [
    "### Visualize Enrichment results"
   ]
  },
  {
   "cell_type": "code",
   "execution_count": null,
   "metadata": {
    "collapsed": false
   },
   "outputs": [],
   "source": [
    "#Display Pathway Results for KEGG pathway Lysosome\n",
    "display_png(file=\"/root/anaconda3/lib/R/library/EnrichmentBrowser/results/reports/mmu04142_volc.png\")\n",
    "display_png(file =\"/root/anaconda3/lib/R/library/EnrichmentBrowser/results/reports/mmu04142_kpath.png\")\n",
    "display_png(file =\"/root/anaconda3/lib/R/library/EnrichmentBrowser/results/reports/mmu04142_hmap.png\")\n",
    "display_png(file =\"/root/anaconda3/lib/R/library/EnrichmentBrowser/results/reports/mmu04142_hmap2.png\")"
   ]
  },
  {
   "cell_type": "code",
   "execution_count": null,
   "metadata": {
    "collapsed": false
   },
   "outputs": [],
   "source": [
    "#Display Pathway Results for KEGG pathway Phagosome\n",
    "display_png(file=\"/root/anaconda3/lib/R/library/EnrichmentBrowser/results/reports/mmu04145_volc.png\")\n",
    "display_png(file =\"/root/anaconda3/lib/R/library/EnrichmentBrowser/results/reports/mmu04145_kpath.png\")\n",
    "display_png(file =\"/root/anaconda3/lib/R/library/EnrichmentBrowser/results/reports/mmu04145_hmap.png\")\n",
    "display_png(file =\"/root/anaconda3/lib/R/library/EnrichmentBrowser/results/reports/mmu04145_hmap2.png\")"
   ]
  },
  {
   "cell_type": "code",
   "execution_count": null,
   "metadata": {
    "collapsed": false
   },
   "outputs": [],
   "source": [
    "#Display Pathway Results for KEGG pathway Leukocyte transendothelial migration\n",
    "display_png(file=\"/root/anaconda3/lib/R/library/EnrichmentBrowser/results/reports/mmu04670_volc.png\")\n",
    "display_png(file =\"/root/anaconda3/lib/R/library/EnrichmentBrowser/results/reports/mmu04670_kpath.png\")\n",
    "display_png(file =\"/root/anaconda3/lib/R/library/EnrichmentBrowser/results/reports/mmu04670_hmap.png\")\n",
    "display_png(file =\"/root/anaconda3/lib/R/library/EnrichmentBrowser/results/reports/mmu04670_hmap2.png\")"
   ]
  }
 ],
 "metadata": {
  "kernelspec": {
   "display_name": "R",
   "language": "R",
   "name": "ir"
  },
  "language_info": {
   "codemirror_mode": "r",
   "file_extension": ".r",
   "mimetype": "text/x-r-source",
   "name": "R",
   "pygments_lexer": "r",
   "version": "3.2.2"
  }
 },
 "nbformat": 4,
 "nbformat_minor": 0
}
