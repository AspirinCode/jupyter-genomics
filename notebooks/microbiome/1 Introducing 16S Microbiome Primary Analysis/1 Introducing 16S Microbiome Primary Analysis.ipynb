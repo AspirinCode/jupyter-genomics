{
 "cells": [
  {
   "cell_type": "markdown",
   "metadata": {},
   "source": [
    "# 1 Introducing 16S Microbiome Primary Analysis\n",
    "Amanda Birmingham, CCBB, UCSD (abirmingham@ucsd.edu)\n",
    "\n",
    "This document introduces a Standard Operating Procedure (SOP) that covers primary analysis of single-end, three-read, Golay-barcoded microbiome 16S sequencing data. \n",
    "\n",
    "<a name = \"table-of-contents\"></a>\n",
    "\n",
    "## Table of Contents\n",
    "\n",
    "* [Background](#background)\n",
    "* [Basic Approach](#basic-approach)\n",
    "* [Required Inputs](#required-inputs)\n",
    "* [Standard Outputs](#standard-outputs)\n",
    "* [Required Time And Resources](#required-time-and-resources)\n",
    "\n",
    "Related Notebooks:\n",
    "* 2 Setting Up Starcluster for QIIME\n",
    "* 3 Validation, Demultiplexing, and Quality Control\n",
    "* 4 OTU Picking and Rarefaction Depth Selection\n",
    "* 5 Analyzing Core Diversity"
   ]
  },
  {
   "cell_type": "markdown",
   "metadata": {},
   "source": [
    "<a name = \"background\"></a>\n",
    "\n",
    "## Background\n",
    "\n",
    "16S rRNA is the small sub-unit (SSU) of bacteria’s ribosome.  This gene is largely conserved across bacteria and archaea (providing conserved primer sites for amplification by polymerase chain reaction (PCR)) but also has hypervariable regions that can be used to separate different microbial “species”--more properly known as Operational Taxonomic Units or OTUs--and build phylogenetic trees.  Usually, samples are taken from mixed microbial communities and a portion of the 16S gene is amplified by PCR (note that eukaryotic DNA is not widely amplified by primers to this gene as eukaryotes’ SSU is 18S rRNA).  \n",
    "\n",
    "Amplicons are labeled with sample-specific indexes and sequenced in a highly multiplexed next-generation sequencing run.  The Earth Microbiome Project standard 16S rRNA Amplification Protocol (see http://www.earthmicrobiome.org/emp-standard-protocols/16s/ ) recommends the use of a standard set of error-correcting Golay barcodes as the indices.  In this case, a common sequencing approach produces three reads (read 1, read 2, and a barcode read, similar to the Illumina TruSeq approach) for each sample, with read lengths in the 100-150 base range, as shown here in this image from http://tucf-genomics.tufts.edu:  \n",
    "<img src = \"images/faq03_pic01.png\" />\n",
    "\n",
    "The resulting sequence data, once analyzed, provides information on the identity and abundance of the microbes in each sample."
   ]
  },
  {
   "cell_type": "markdown",
   "metadata": {},
   "source": [
    "[Table of Contents](#table-of-contents)\n",
    "\n",
    "<a name = \"basic-approach\"></a>\n",
    "\n",
    "## Basic Approach\n",
    "\n",
    "This SOP employs the QIIME (pronounced \"chime\") software developed by the Knight lab at UCSD to perform \"primary analysis\", the first stage of analysis of all 16S-based microbiome data.  The major steps of this work are (i) read demultiplexing (if necessary) and basic quality control (QC), (ii) OTU picking, and (iii) core diversity analysis. Step iii comprises taxa summarization, alpha diversity calculations, and beta diversity calculations.  \n",
    "\n",
    "Alpha diversity (i.e., within-sample) calculations are performed for three commonly used metrics: number of observed OTUs, whole-tree phylogenetic diversity, and the chao1 metric.  The distributions of these metrics are visualized in boxplots for each selected category in the input data. Additionally, rarefaction curves are produced for each of these metrics for each category in the input data.\n",
    "\n",
    "Beta diversity (i.e., between-sample) calculations are performed for two commonly used metrics: unweighted and weighted UniFrac.  The distributions of these two metrics are visualized in boxplots for each selected category in the input data.  Additionally, for each metric, a principal coordinates analysis (PCoA) is performed and the top three dimensions of the result are visualized as an interactive 3-D graph.\n",
    "\n",
    "Primary analysis excludes tasks such as investigating the effect of alternate sequence depths on outcomes, recalculating diversity metrics on researcher-selected subsets of the full data set, and investigation of hypotheses generated from the primary analysis deliverables.\n",
    "\n",
    "The pipeline is executed by the validate_mapping_file.py, split_libraries_fastq.py, pick_open_reference_otus.py, and core_diversity_analyses.py workflow scripts of the QIIME open-source microbial ecology package. This software is built in Python 2.7.3 and deployed on Ubuntu linux.  3-D graphs are visualized with Emperor, a browser-based open-source visualization tool. Analysis currently runs on Amazon Web Services using Python-based StarCluster 0.95.6, an open-source cluster-computing toolkit, although it is anticipated that future versions of the cluster will transition to cfncluster for greater flexibility in dynamic cluster sizing."
   ]
  },
  {
   "cell_type": "markdown",
   "metadata": {},
   "source": [
    "\n",
    "    \n"
   ]
  },
  {
   "cell_type": "markdown",
   "metadata": {},
   "source": [
    "[Table of Contents](#table-of-contents)\n",
    "\n",
    "<a name = \"required-inputs\"></a>\n",
    "\n",
    "## Required Inputs\n",
    "\n",
    "Researchers requesting primary analysis should provide the following:  \n",
    "\n",
    "1.\tfastq file(s) of the 16S reads\n",
    "2.\tA comma-separated-value mapping file with one row for each sample, containing (see http://qiime.org/documentation/file_formats.html , quoted below, for more details)\n",
    "    * Sample name\n",
    "    * Barcode sequence used for the sample\n",
    "    * Linker/primer sequence used to amplify the sample\n",
    "    * Sample description\n",
    "    * “Any metadata that relates to the samples (for instance, health status or sampling site)”\n",
    "    * “Any additional information relating to specific samples that may be useful to have at hand when considering outliers (for example, what medications a patient was taking at time of sampling)”\n",
    "3.\tExperimental design information including\n",
    "    * Sequencing instrument used \n",
    "    * Expected read length\n",
    "    * Expected read depth\n",
    "    * Read type (single- or paired-end)\n",
    "        * **Integrated analysis of paired-end reads is currently beyond the scope of this SOP**, but analysis of one of the two reads from a paired-end experiment is usually adequate.\n",
    "    * Whether data have already been demultiplexed\n",
    "        * If not \n",
    "            * fastq file(s) of their barcodes for experiments with a separate index read\n",
    "            * **Analysis of experiments not using a separate index read is currently beyond the scope of this SOP**\n",
    "            * **Analysis of experiments using indexes other than those from the standard protocol is currently beyond the scope of this SOP**\n",
    "    * Whether data contains positive or negative controls\n",
    "        * If so, how to identify them in the mapping file\n",
    "    * As many as four categories from mapping file that should be used to group data during primary analysis\n",
    "    * (Optional) Preferences for \n",
    "        * Minimum sequencing depth to use during rarefaction (essentially, preference for whether analyst should favor broader sample coverage or better-quality data per sample).\n",
    "            * Default: Analyst’s choice based on data\n",
    "        * OTU picking method (de novo, open reference, or closed reference)\n",
    "            * Default: open reference\n",
    "            * If open or closed, source of OTU reference sequences\n",
    "                * Default: current greengenes 97% collection\n",
    "        * Three or fewer alpha diversity metrics to employ\n",
    "            * Default: number of observed OTUs, whole-tree phylogenetic diversity, and chao1\n",
    "        * Two or fewer beta diversity metrics to employ\n",
    "            * Default: unweighted UniFrac, weighted UniFrac "
   ]
  },
  {
   "cell_type": "markdown",
   "metadata": {},
   "source": [
    "[Table of Contents](#table-of-contents)\n",
    "\n",
    "<a name = \"standard-outputs\"></a>\n",
    "\n",
    "## Standard Outputs\n",
    "\n",
    "1.\tIf applicable, demultiplexed file(s)\n",
    "2.\tIf applicable, corrected mapping file that passes QIIME validation\n",
    "3.\tFolder containing OTU picking outputs, including \n",
    "    * OTU table file(s) in .biom format\n",
    "    * Representative sequence set file in fasta format\n",
    "    * Representative set taxonomy file in .tre format\n",
    "    * Summary text file of counts per sample\n",
    "4.\tFolder containing alpha diversity analysis outputs, including\n",
    "    * Alpha rarefaction curves in .png format\n",
    "    * Categorized alpha diversity metric box plots in .pdf format\n",
    "5.\tFolder containing beta diversity outputs, including\n",
    "    * Categorized beta diversity metric box plots in .pdf format\n",
    "    * Interactive 3-D Emperor PCoA graphic, in .html format\n",
    "6.\tBrief methods text suitable for publication, describing key method steps and choices such as that of sample depth, in .docx format\n",
    "7.\tSummary report presentation describing findings, in .pptx format\n",
    "\n",
    "In the case of successful primary analysis, all of the above will be delivered.  In the case of unsuccessful analysis due to low sequence quality, unsuccessful OTU picking, etc., deliverable 7 (summary report) will be delivered, as well as any other deliverables deemed meaningful by the analyst."
   ]
  },
  {
   "cell_type": "markdown",
   "metadata": {},
   "source": [
    "[Table of Contents](#table-of-contents)\n",
    "\n",
    "<a name = \"required-time-and-resources\"></a>\n",
    "\n",
    "## Required Time and Resources\n",
    "\n",
    "Typical microbiome datasets comprise a portion of a MiSeq run (which can contain up to ~15 million reads) split over a few hundred multiplexed samples, using ~1-5 gigabytes (GB) of storage. Although precise run times are, of course, a function of dataset size, sequence quality, categories chosen for analysis, and so forth, computation for primary analysis of a typical microbiome dataset can usually be completed in less than one working day.  Only an hour or two of analyst time is required during this computation day, while another 2 to 8 hours of analyst effort is needed to assess the computed results, draw conclusions, and prepare deliverables; more time may of course be required for datasets that cause errors during primary analysis. For example, a primary analysis computation for dataset of ~6.5 million 100-base reads plus barcodes across 467 samples (~4 GB of sequence) took ~4 calendar hours on a 3-node StarCluster comprised of m3.2xlarge instances (each of which has 8 CPUs and 30 GB RAM) attached to a shared 30 GB EBS volume. "
   ]
  },
  {
   "cell_type": "markdown",
   "metadata": {
    "collapsed": true
   },
   "source": [
    "[Table of Contents](#table-of-contents)"
   ]
  },
  {
   "cell_type": "code",
   "execution_count": null,
   "metadata": {
    "collapsed": true
   },
   "outputs": [],
   "source": []
  }
 ],
 "metadata": {
  "kernelspec": {
   "display_name": "Python 3",
   "language": "python",
   "name": "python3"
  },
  "language_info": {
   "codemirror_mode": {
    "name": "ipython",
    "version": 3
   },
   "file_extension": ".py",
   "mimetype": "text/x-python",
   "name": "python",
   "nbconvert_exporter": "python",
   "pygments_lexer": "ipython3",
   "version": "3.4.2"
  }
 },
 "nbformat": 4,
 "nbformat_minor": 0
}
